{
 "cells": [
  {
   "cell_type": "markdown",
   "metadata": {
    "pycharm": {
     "name": "#%% md\n"
    }
   },
   "source": [
    "\n",
    "<div style=\"width: 100%; clear: both;\">\n",
    "    <div style=\"float: left; width: 50%;\">\n",
    "       <img src=\"http://www.uoc.edu/portal/_resources/common/imatges/marca_UOC/UOC_Masterbrand.jpg\", align=\"left\">\n",
    "    </div>\n",
    "</div>\n",
    "\n",
    "<div style=\"float: right; width: 50%;\">\n",
    "    <p style=\"margin: 0; padding-top: 22px; text-align:right;\">M1.771 · Privacidad</p>\n",
    "    <p style=\"margin: 0; text-align:right;\">Máster Universitario en Ciberseguretat y Privacidad</p>\n",
    "    <p style=\"margin: 0; text-align:right; padding-button: 100px;\">Estudios de Informática, Multimedia y Telecomunicación</p>\n",
    "</div>\n",
    "\n",
    "</div>\n",
    "<div style=\"width: 100%; clear: both;\">\n",
    "<div style=\"width:100%;\">&nbsp;</div>"
   ]
  },
  {
   "cell_type": "markdown",
   "metadata": {
    "pycharm": {
     "name": "#%% md\n"
    }
   },
   "source": [
    "\n",
    "Privacidad\n",
    "============================\n",
    "\n",
    "---\n",
    "\n",
    "Ejercicios resueltos - Privacidad diferencial\n",
    "-----------------------------------------------------\n",
    "\n",
    "---\n",
    "\n",
    "### Instrucciones de uso\n",
    "\n",
    "Este *notebook* contiene un conjunto de ejercicios sobre privacidad diferencial\n",
    "que os pueden servir para practicar los conceptos que se explican en los módulos\n",
    "teóricos.\n",
    "\n",
    "Os recomendamos que intentéis hacer estos problemas vosotros mismos y que, una\n",
    "vez realizados, comparéis vuestra solución con la que os proponemos. No dudéis\n",
    "en dirigiros al foro del aula para consultar todas las cuestiones que surjan a raíz de la resolución de estos\n",
    "ejercicios o bien de las soluciones dadas.\n",
    "\n",
    "Para hacer las actividades propuestas, tendríais que estar familiarizados con\n",
    "las librerías de Python `Pandas` y `NumPy`. Si no conocéis el funcionamiento\n",
    "de estas librerías, os recomendamos que reviséis primero las unidades de los\n",
    "*notebooks* de la asignatura Cimientos de programación que encontraréis en el aula.\n",
    "\n",
    "El uso de varias funciones de las librerías `Pandas` o `NumPy` os puede ser muy\n",
    "útil en la resolución de algunos ejercicios. Como ayuda, algunas preguntas\n",
    "sugieren el uso de alguna de estas funciones en una **nota**. Sois libres de decidir si seguir o no estas\n",
    "recomendaciones. De hecho, puede haber más de una manera de solucionar los ejercicios, y la que os\n",
    "sugerimos puede no ser la mejor.\n",
    "\n",
    "\n",
    "### Introducción\n",
    "\n",
    "En este *notebook* pondremos en práctica algunas ideas básicas de la aplicación\n",
    "de privacidad diferencial. En general, trabajaremos con ejemplos muy sencillos y simularemos\n",
    "el hecho de hacer una consulta a una base de datos, simplemente como\n",
    "un llamamiento a una función en Python que recibe como parámetro la base de datos como\n",
    "un `DataFrame` de `Pandas`. \n"
   ]
  },
  {
   "cell_type": "markdown",
   "metadata": {},
   "source": [
    "Las dos celdas de código siguientes permiten activar las alertas de estilo para el\n",
    "código de este *notebook*. Si queréis comprobar que vuestro código sigue la guía\n",
    "de estilo de Python, podéis descomentarlas y ejecutarlas. A partir de entonces,\n",
    "cualquier otra celda de código que se ejecute pasará una revisión de estilo; también\n",
    "se mostrarán alertas que informarán de las líneas de código que no cumplen con\n",
    "la guía y de cuál es el problema detectado.\n"
   ]
  },
  {
   "cell_type": "code",
   "execution_count": 1,
   "metadata": {
    "pycharm": {
     "name": "#%%\n"
    }
   },
   "outputs": [],
   "source": [
    "# this needs the packages: ppycodestyle, pycodestyle_magic, flake8\n",
    "#%load_ext pycodestyle_magic"
   ]
  },
  {
   "cell_type": "code",
   "execution_count": 2,
   "metadata": {
    "pycharm": {
     "name": "#%%\n"
    }
   },
   "outputs": [],
   "source": [
    "#%pycodestyle_on\n",
    "\n"
   ]
  },
  {
   "cell_type": "markdown",
   "metadata": {},
   "source": [
    "# Privacidad diferencial\n",
    "\n",
    "Se ha hecho una encuesta sobre quién ha leído *El Quijote*. El resultado de la\n",
    "encuesta incluye datos sobre todos los sujetos que la han contestado y proporciona\n",
    "información sobre si el sujeto ha leído o no la novela. Por motivos\n",
    "que se escapan a nuestra compresión se considera la información sobre si un sujeto\n",
    "ha leído o no *El Quijote* como muy sensible y se quiere mantener secreta a toda\n",
    "costa.\n",
    "\n",
    "Los resultados de esta encuesta los encontramos en el fichero `data/quixote_today.csv`.\n",
    "\n",
    "Nuestra base de datos contendrá la información de este fichero, pero\n",
    "limitaremos el acceso. Solo se podrá acceder mediante una API\n",
    "pública, que incluirá una función `query` que devolverá el número de sujetos de la\n",
    "base de datos que SÍ que han leído la novela.\n",
    "\n",
    "Asumimos que los usuarios externos y posibles atacantes solo tienen acceso a la\n",
    "base de datos usando una función `query`. Esta situación puede parecer\n",
    "relativamente segura respecto a la privacidad de los sujetos de la base de datos.\n",
    "También puede parecer que un atacante no podría obtener información sobre si un\n",
    "sujeto concreto ha leído o no *El Quijote*. Como veremos, y como ya debéis de sospechar,\n",
    "esto no es del todo cierto, puesto que dependiendo de la situación en la cual nos encontramos se\n",
    "podría llegar a filtrar información confidencial.\n"
   ]
  },
  {
   "cell_type": "markdown",
   "metadata": {},
   "source": [
    "**Ejercicio 1**\n",
    "\n",
    "Cargad el fichero `data/quixote_today.csv` como un DataFrame de `Pandas`\n",
    "en la variable `db1`.\n"
   ]
  },
  {
   "cell_type": "code",
   "execution_count": 3,
   "metadata": {
    "pycharm": {
     "name": "#%%\n"
    }
   },
   "outputs": [],
   "source": [
    "import pandas as pd\n",
    "\n",
    "\n",
    "def load_db(filename: str) -> pd.DataFrame:\n",
    "    return pd.read_csv(filename)\n",
    "\n",
    "\n",
    "db1 = load_db(\"data/quixote_today.csv\")"
   ]
  },
  {
   "cell_type": "markdown",
   "metadata": {},
   "source": [
    "**Ejercicio 2**\n",
    "\n",
    "Como ya hemos comentado, simularemos que `db1` es la base de datos y que la única manera\n",
    "que tienen los usuarios externos de acceder es mediante la API pública.\n",
    "Esta API proporciona una función `query` que devuelve el número de sujetos\n",
    "que sí que han leído *El Quijote*.\n",
    "\n",
    "Implementad esta función `query` que recibe como parámetro una base de datos, es decir,\n",
    "un DataFrame como `db1`, y que devuelve el número de sujetos que han leído *El Quijote*. Este\n",
    "número es el que se enviará al usuario como respuesta.\n",
    "\n",
    "Probad la función con la base de datos `db1` y mirad qué devuelve.\n"
   ]
  },
  {
   "cell_type": "code",
   "execution_count": 4,
   "metadata": {
    "pycharm": {
     "name": "#%%\n"
    }
   },
   "outputs": [
    {
     "data": {
      "text/plain": [
       "31"
      ]
     },
     "execution_count": 4,
     "metadata": {},
     "output_type": "execute_result"
    }
   ],
   "source": [
    "def query(db: pd.DataFrame) -> int:\n",
    "    return db[\"quixote\"].sum()\n",
    "\n",
    "\n",
    "query(db1)"
   ]
  },
  {
   "cell_type": "markdown",
   "metadata": {},
   "source": [
    "## Posible ataque a la privacidad\n",
    "\n",
    "Suponemos la situación siguiente: acabamos de ver que apenas\n",
    "han encuestado a nuestro vecino Richard Flores y sabemos que sus respuestas se\n",
    "guardan automáticamente a la base de datos. Es decir, podemos hacer una consulta justo\n",
    "después de que se haya hecho la encuesta a Richard Flores.\n",
    "\n",
    "Con esto asumimos que podemos hacer dos consultas: una justo antes de que se haya\n",
    "encuestado a Richard Flores y otra después.\n",
    "\n",
    "En el contexto de la privacidad diferencial esto puede ser equivalente a tener dos bases de datos:\n",
    "una que contiene el registro correspondiente a Richard Flores y la otra que es\n",
    "exactamente igual al anterior pero sin este registro.\n",
    "\n",
    "Por eso usaremos las bases de datos `data/quixote_today.csv` y `data/quixote_yesterday.csv`.\n",
    "De forma que:\n",
    "* `quixote_today.csv` contiene todos el registros, incluyendo el de Richard Flores.\n",
    "* `quixote_yesterday.csv` contiene los mismos registros sin el de Richard Flores.\n"
   ]
  },
  {
   "cell_type": "markdown",
   "metadata": {},
   "source": [
    "**Ejercicio 3**\n",
    "\n",
    "Cargad el fichero `data/quixote_yesterday.csv` y guardad el DataFrame resultante como\n",
    "`bd2`.\n",
    "\n",
    "Probad a hacer la consulta `query` sobre esta base de datos."
   ]
  },
  {
   "cell_type": "code",
   "execution_count": 5,
   "metadata": {
    "pycharm": {
     "name": "#%%\n"
    }
   },
   "outputs": [
    {
     "data": {
      "text/plain": [
       "31"
      ]
     },
     "execution_count": 5,
     "metadata": {},
     "output_type": "execute_result"
    }
   ],
   "source": [
    "db2 = load_db(\"data/quixote_yesterday.csv\")\n",
    "\n",
    "query(db2)"
   ]
  },
  {
   "cell_type": "markdown",
   "metadata": {},
   "source": [
    "**Ejercicio 4**\n",
    "\n",
    "Comparando las dos consultas hechas a `bd1` y `bd2`, podemos saber si Richard Flores\n",
    "ha leído *El Quijote*?"
   ]
  },
  {
   "cell_type": "markdown",
   "metadata": {},
   "source": [
    "> *Respuesta*: sabemos que `db1` tiene precisamente un solo registro más que `db2`; además,\n",
    "> también sabemos que este registro corresponde a Richard Flores. Si comparamos la ejecución\n",
    "> de la función `query` en los dos casos, podemos comparar el número de sujetos que\n",
    "> han leído *El Quijote* en los dos casos. Es decir, si Richard Flores ha leído\n",
    "> la novela, la diferencia entre `db1` y `db2` será 1, mientras que, si no la ha\n",
    "> leído, será 0.\n"
   ]
  },
  {
   "cell_type": "code",
   "execution_count": 6,
   "metadata": {
    "pycharm": {
     "name": "#%%\n"
    }
   },
   "outputs": [
    {
     "name": "stdout",
     "output_type": "stream",
     "text": [
      "Richard Flores has not read the Quixote\n"
     ]
    }
   ],
   "source": [
    "diff = query(db1) - query(db2)\n",
    "if diff == 1:\n",
    "    print(\"Richard Flores has read the Quixote\")\n",
    "else:\n",
    "    print(\"Richard Flores has not read the Quixote\")"
   ]
  },
  {
   "cell_type": "markdown",
   "metadata": {},
   "source": [
    "# Mecanismo de Laplace\n",
    "\n",
    "Ahora aplicaremos el mecanismo de Laplace para proteger el acceso a la base de datos\n",
    "e intentar evitar el ataque que hemos visto anteriormente. Es decir, haremos\n",
    "una versión de la función `query` que cumpla privacidad diferencial, y para ello\n",
    "usaremos el mecanismo de Laplace.\n",
    "\n",
    "Recordemos que, en privacidad diferencial, el mecanismo de Laplace se puede aplicar a funciones\n",
    "numéricas del tipo $f: {\\cal D} \\to \\mathbb{R}^k$, es decir, una función que\n",
    "aplicada a la base de datos $X \\in {\\cal D}$ devuelve $k$ números reales (en\n",
    "este caso denotamos como ${\\cal D}$ el conjunto de todas las posibles bases de datos).\n",
    "\n",
    "Para definir el mecanismo de Laplace, hace falta que conozcamos el concepto de *sensibilidad\n",
    "global* y cómo se calcula la distribución de Laplace.\n",
    "\n",
    "La **sensitividad global** o $l_1$-_sensitivity_ de una función $f: {\\cal D} \\to\n",
    "\\mathbb{R}^k$ se define como:\n",
    "\n",
    "$$GS_f = \\max_{X_1, X_2 \\in {\\cal D}, \\ d(X_1, X_2) = 1} \\lVert f(X_1) - f(X_2) \\rVert_{1}$$\n",
    "\n",
    "donde $\\lVert \\cdot \\rVert_1$ es la norma $L_1$. Dado un vector\n",
    "$x \\in \\mathbb{R}^M$, $\\lVert x \\rVert_1 = \\sum_{y=1}^M | x_y |$, es decir, la suma\n",
    "del valor absoluto de todos los elementos del vector. \n",
    "\n",
    "En este caso $X_1$ y $X_2$ pueden ser cualquier par de versiones de la base de datos\n",
    "que difieren en un solo registro. Esto se denota como $d(X_1, X_2) = 1$.\n",
    "\n",
    "Así pues, de manera simplificada podemos definir el mecanismo de Laplace para\n",
    "una función $f: {\\cal D} \\to \\mathbb{R}^k$ como:\n",
    "\n",
    "$$M_L(x,f,\\epsilon) = f(x) + (L_1, \\ldots, L_k)$$\n",
    "\n",
    "donde $L_i$ son variables aleatorias obtenidas a partir de una distribución de Laplace\n",
    "$Lap(GS_f/\\epsilon)$. \n",
    "\n",
    "Recordemos que $Lap(b)$ denota la distribución de Laplace con escala $b$ (y centrada\n",
    "en el 0) que tiene la función de densidad de probabilidades:\n",
    "\n",
    "$$Lap(x,b) = \\frac{1}{2b}\\exp(-\\frac{|x|}{b})$$\n",
    "\n"
   ]
  },
  {
   "cell_type": "markdown",
   "metadata": {},
   "source": [
    "**Ejercicio 5**\n",
    "\n",
    "Calculad cuál es la sensibilidad global de la función `query` que hemos definido\n",
    "anteriormente y guardad su valor en una variable `GS_query`."
   ]
  },
  {
   "cell_type": "markdown",
   "metadata": {},
   "source": [
    "> *Respuesta*: la sensibilidad global de `query` es 1. Sabemos que la diferencia de\n",
    "> la respuesta a una función `query` hecha a dos bases de datos que difieren en un solo\n",
    "> elemento será 0 o 1. Así pues, la diferencia máxima es 1."
   ]
  },
  {
   "cell_type": "code",
   "execution_count": 7,
   "metadata": {
    "pycharm": {
     "name": "#%%\n"
    }
   },
   "outputs": [],
   "source": [
    "GS_query = 1"
   ]
  },
  {
   "cell_type": "markdown",
   "metadata": {
    "pycharm": {
     "name": "#%% md\n"
    }
   },
   "source": [
    "\n",
    "**Ejercicio 6** \n",
    "\n",
    "Definid una nueva función `query_laplace` que use la función anterior\n",
    "`query` y devuelva el resultado de aplicar el mecanismo de Laplace para la función\n",
    "`query`. La nueva función `query_laplace` recibirá como parámetro una base de datos\n",
    "(`DataFrame`) y el valor $\\epsilon$. Para ser coherentes con la interpretación\n",
    "del resultado haremos que devuelva un entero.\n",
    "\n",
    "> **Nota**: podéis usar la función [`numpy.random.Generator.laplace`](https://numpy.org/doc/stable/reference/random/generated/numpy.random.Generator.laplace.html).\n"
   ]
  },
  {
   "cell_type": "code",
   "execution_count": 8,
   "metadata": {
    "pycharm": {
     "name": "#%%\n"
    }
   },
   "outputs": [],
   "source": [
    "import numpy as np\n",
    "\n",
    "\n",
    "def query_laplace(db: pd.DataFrame, dp_epsilon: float) -> int:\n",
    "    lap = np.random.default_rng().laplace(0, GS_query / dp_epsilon, 1)[0]\n",
    "    return int(query(db) + lap)"
   ]
  },
  {
   "cell_type": "markdown",
   "metadata": {
    "pycharm": {
     "name": "#%% md\n"
    }
   },
   "source": [
    "**Ejercicio 7**\n",
    "\n",
    "Ejecutad la función `query_laplace` con `db1` y `db2` y comparad el resultado con\n",
    "el de aplicar la función `query`. ¿Qué pasa con $\\epsilon = 0.1$ y con $\\epsilon =\n",
    "10$? Debido a la aleatoriedad de `query_replace`, se recomienda que ejecutéis la función\n",
    "diversas veces.\n",
    "\n",
    "¿Ahora podemos saber si Richard Flores ha leído *El Quijote* si se usa la función\n",
    "`query_laplace`?"
   ]
  },
  {
   "cell_type": "code",
   "execution_count": 9,
   "metadata": {
    "pycharm": {
     "name": "#%%\n"
    }
   },
   "outputs": [
    {
     "name": "stdout",
     "output_type": "stream",
     "text": [
      "Epsilon = 0.1:\n",
      "  DB1: query 31, query_laplace 36\n",
      "  DB2: query 31, query_laplace 32\n",
      "Epsilon = 10:\n",
      "  DB1: query 31, query_laplace 30\n",
      "  DB2: query 31, query_laplace 30\n"
     ]
    }
   ],
   "source": [
    "print(\"Epsilon = 0.1:\")\n",
    "print(f\"  DB1: query {query(db1)}, query_laplace {query_laplace(db1, 0.1)}\")\n",
    "print(f\"  DB2: query {query(db2)}, query_laplace {query_laplace(db2, 0.1)}\")\n",
    "print(\"Epsilon = 10:\")\n",
    "print(f\"  DB1: query {query(db1)}, query_laplace {query_laplace(db1, 10)}\")\n",
    "print(f\"  DB2: query {query(db2)}, query_laplace {query_laplace(db2, 10)}\")"
   ]
  },
  {
   "cell_type": "markdown",
   "metadata": {},
   "source": [
    "> *Respuesta*: vemos que en el caso de $\\epsilon = 0.1$ la respuesta devuelta por\n",
    "> las funciones `query` y `query_laplace` es bastante diferente. Si probamos de hacer\n",
    "> el ataque descrito en el ejercicio 4, obtenemos resultados poco coherentes, puesto que es\n",
    "> muy posible que esta diferencia no sea ni 0 ni 1, que son los valores\n",
    "> que esperaríamos obtener.\n",
    ">\n",
    "> Recordad que el valor concreto dependerá de la aleatoriedad de la ejecución\n",
    "> (probad de ejecutarlo unas cuantas veces).\n",
    ">\n",
    "> También podemos observar que el valor devuelto es bastante diferente al original\n",
    "> (que es 31). Esto nos está mostrando que hay un nivel de privacidad muy\n",
    "> alto a costa de introducir una pérdida de información muy grande.\n",
    ">\n",
    "> Por el contrario, cuando probamos con $\\epsilon = 10$ vemos que las repuestas entre\n",
    "> `query_laplace` y `query` son muy parecidas. De hecho, si ejecutáis muchas veces\n",
    "> la función podéis encontrar que en muchos casos devuelven el mismo valor. Esto nos\n",
    "> muestra que el nivel de privacidad es muy bajo (en muchos casos\n",
    "> el ataque del ejercicio 4 se puede hacer con éxito), y, por el contrario, que tenemos una pérdida\n",
    "> de información muy baja.\n",
    ">\n",
    "> Para verlo más claro podemos comparar la media de la diferencia entre\n",
    "> ejecutar la función `query` y la `query_laplace` tanto en `db1` como en `db2` en\n",
    "> valor absoluto para los dos valores de $\\epsilon$:"
   ]
  },
  {
   "cell_type": "code",
   "execution_count": 10,
   "metadata": {
    "pycharm": {
     "name": "#%%\n"
    }
   },
   "outputs": [
    {
     "name": "stdout",
     "output_type": "stream",
     "text": [
      " epsilon=0.1: (100.11, 104.3)\n",
      " epsilon=10: (4.93, 4.84)\n"
     ]
    }
   ],
   "source": [
    "def compare_results(epsilon):\n",
    "    q1 = q2 = 0\n",
    "    for i in range(1000):\n",
    "        q1 += abs(query(db1) - query_laplace(db1, epsilon))\n",
    "        q2 += abs(query(db2) - query_laplace(db2, epsilon))\n",
    "    return q1/100, q2/100\n",
    "\n",
    "print(f\" epsilon=0.1: {compare_results(0.1)}\")\n",
    "print(f\" epsilon=10: {compare_results(10)}\")"
   ]
  },
  {
   "cell_type": "markdown",
   "metadata": {},
   "source": [
    "**Ejercicio 8**\n",
    "\n",
    "Para practicar un poco lo que hemos visto, ahora queremos hacer lo mismo pero con una\n",
    "función `query2`, que devolverá el número de sujetos que NO han leído *El Quijote*\n",
    "y su edad media. \n",
    "\n",
    "Para ello definiremos una nueva función que recibe como parámetro una base de datos\n",
    "(un `DataFrame`) y devuelve una tupla de dos números. El primero es el número\n",
    "de personas que NO han leído la novela, y el segundo, su edad media (media aritmética de los que no han leído El Quijote).\n"
   ]
  },
  {
   "cell_type": "code",
   "execution_count": 11,
   "metadata": {
    "pycharm": {
     "name": "#%%\n"
    }
   },
   "outputs": [
    {
     "name": "stdout",
     "output_type": "stream",
     "text": [
      "DB1: (69, 40.44927536231884), DB2: (68, 40.411764705882355)\n"
     ]
    }
   ],
   "source": [
    "from typing import Tuple\n",
    "\n",
    "\n",
    "def query2(db: pd.DataFrame) -> Tuple[int, int]:\n",
    "    quixote = db[db[\"quixote\"] == 0].shape[0]\n",
    "    avg_age = db[db['quixote'] == 0][\"age\"].mean()\n",
    "    return (quixote, avg_age)\n",
    "\n",
    "\n",
    "print(f\"DB1: {query2(db1)}, DB2: {query2(db2)}\")"
   ]
  },
  {
   "cell_type": "markdown",
   "metadata": {},
   "source": [
    "**Ejercicio 9**\n",
    "\n",
    "Comparad la ejecución de `query2` con `db1` y `db2`. ¿Ahora podemos saber si\n",
    "Richard Flores ha leído o no *El Quijote*? ¿Tenemos información sobre su edad?"
   ]
  },
  {
   "cell_type": "markdown",
   "metadata": {},
   "source": [
    "> *Respuesta*: siguiendo con el razonamiento del ejercicio 4, podemos comparar\n",
    "> la ejecución de la función `query2` en `db1` y en `db2`. Del mismo modo, podemos\n",
    "> saber si Richard Flores ha leído o no *El Quijote* (notad que en este caso\n",
    "> la función devuelve el número de los que NO lo han leído).\n",
    ">\n",
    "> En cuanto a la edad, nos encontramos que podemos saber la edad exacta de\n",
    "> Richard Flores, puesto que tenemos la media de edad de los que no han leído la\n",
    "> novela, así como el número de sujetos que no lo han leído con Richard Flores y sin él.\n",
    "> Si denotamos como $\\mu_2$ la media de los que no la han leído en `db2`, tenemos que:\n",
    ">\n",
    "> $$ \\mu_2 = \\frac{\\sum x_i}{N_1} $$\n",
    ">\n",
    "> donde $x_i$ son las edades de todos los sujetos que no han leído *El Quijote* y\n",
    "> $N_1$ el número de sujetos que no lo han leído en `db2`\n",
    "> (esto excluye a Richard Flores). En el caso de `db1` tenemos:\n",
    ">\n",
    "> $$ \\mu_1 = \\frac{(\\sum x_i) + y}{N_2} $$\n",
    ">\n",
    "> donde ahora $y$ corresponde a la edad de Richard Flores y $N_2$ es el número de\n",
    "> sujetos que no han leído *El Quijote* en `db2` (presumiblemente $N_2 = N_1 + 1$).\n",
    "> Jugando un poco con estas dos fórmulas podemos encontrar el valor de $y$.\n",
    ">\n",
    "> Es importante notar que podemos calcular la edad de Richard Flores porque no ha\n",
    "> leído *El Quijote*, es decir, porque $N_2 = N_1 + 1$. En caso contrario, si\n",
    "> tuvieramos que $N_2 = N_1$, sabríamos que Richard Flores sí que ha leído la\n",
    "> novela, pero no podríamos saber su edad."
   ]
  },
  {
   "cell_type": "code",
   "execution_count": 12,
   "metadata": {
    "pycharm": {
     "name": "#%%\n"
    }
   },
   "outputs": [
    {
     "name": "stdout",
     "output_type": "stream",
     "text": [
      "Richard Flores has not read Don Quixote\n",
      "Age of Richard Flores: 43.0\n"
     ]
    }
   ],
   "source": [
    "q1 = query2(db1)\n",
    "q2 = query2(db2)\n",
    "\n",
    "diff = q1[0] - q2[0]\n",
    "if diff == 0:\n",
    "    print(\"Richard Flores has read Don Quixote\")\n",
    "else:\n",
    "    print(\"Richard Flores has not read Don Quixote\")\n",
    "\n",
    "print(f\"Age of Richard Flores: {q1[0]*q1[1] - q2[0]*q2[1]}\")"
   ]
  },
  {
   "cell_type": "markdown",
   "metadata": {},
   "source": [
    "**Ejercicio 10**\n",
    "\n",
    "Para evitar el problema anterior, utilizaremos privacidad diferencial.\n",
    "Definid una función `query2_laplace` que devuelva el resultado de aplicar el mecanismo de Laplace a la\n",
    "función `query2`. La nueva función `query2_laplace` recibirá como parámetro una base\n",
    "de datos (un `DataFrame` de` Pandas`) y el valor $\\epsilon$.\n",
    "\n",
    "Tened en cuenta que para poder determinar la sensibilidad global de la función\n",
    "`query2`, el resultado de la misma debe estar acotado. Por ello asumiremos que\n",
    "el atributo `age` puede ser como mínimo 0 y como máximo 100.\n",
    "\n",
    "Probad ahora de ejecutar la función `query2_laplace` en `db1` y en `db2` para $\\epsilon = 0.1$, $\\epsilon =\n",
    "10$ i $\\epsilon=100$.\n",
    "\n",
    "¿Ahora podemos saber si Richard Flores ha leído *El Quijote* o qué edad tiene, tal y\n",
    "como lo hemos hecho en el ejercicio 9?\n"
   ]
  },
  {
   "cell_type": "markdown",
   "metadata": {},
   "source": [
    "> *Respuesta*: primero tenemos que calcular la sensitividad global de `query2`.\n",
    "> Esta función devuelve una tupla $(N, e)$, donde $N$ es el número de sujetos\n",
    "> que no han leído *El Quijote*, y $e$, su edad media. Como hemos visto, la\n",
    "> sensibilidad global se basa en la diferencia máxima que puede haber entre dos\n",
    "> consultas hechas a dos bases de datos que solo difieren en un elemento.\n",
    ">\n",
    "> En este caso, ya hemos visto que la diferencia máxima para $N$ sería 1\n",
    "> (ejercicio 5). En el caso de la edad mediana, la diferencia más grande depende de los\n",
    "> valores máximo y mínimo de edad posibles. Suponemos el caso en el que tenemos DB1 con 1\n",
    "> registro y DB2 con 2. Si la edad del registro en DB1 es 0 y el nuevo registro de\n",
    "> DB2 es 100, tenemos una diferencia entre DB1 y DB2 de 50 (asumiendo que los dos\n",
    "> registros no hayan leído *El Quijote*). En general, la diferencia máxima en\n",
    "> la media de edad será $50$.\n",
    ">\n",
    "> Con esto podemos decir que la sensibilidad global de `query2` es de $51$. Recordad\n",
    "> que, en el supuesto de que la respuesta sea un vector, hay que dar la suma de elementos\n",
    "> en valor absoluto de la diferencia de las respuestas."
   ]
  },
  {
   "cell_type": "code",
   "execution_count": 13,
   "metadata": {
    "pycharm": {
     "name": "#%%\n"
    }
   },
   "outputs": [],
   "source": [
    "# global sensitivity of function `query2`:\n",
    "# in case you wonder, the l1 norm can be computed with numpy as:\n",
    "# np.linalg.norm((1,50), ord=1)\n",
    "GS_query2 = 51"
   ]
  },
  {
   "cell_type": "markdown",
   "metadata": {},
   "source": [
    "> *Respuesta*: ahora podemos calcular la función `query2_laplace` usando el\n",
    "> mecanismo de Laplace."
   ]
  },
  {
   "cell_type": "code",
   "execution_count": 14,
   "metadata": {
    "pycharm": {
     "name": "#%%\n"
    }
   },
   "outputs": [],
   "source": [
    "def query2_laplace(db: pd.DataFrame, dp_epsilon: float) -> Tuple[int, int]:\n",
    "    l_num = np.random.default_rng().laplace(0,GS_query2 / dp_epsilon,1)[0]\n",
    "    l_age = np.random.default_rng().laplace(0,GS_query2 / dp_epsilon,1)[0]\n",
    "    q2 = query2(db)\n",
    "    return int(q2[0] + l_num), int(q2[1] +l_age)"
   ]
  },
  {
   "cell_type": "markdown",
   "metadata": {},
   "source": [
    "> *Respuesta*: para ver el resultado, y si estamos consiguiendo\n",
    "> anonimizar la respuesta, calculamos la ejecución de `query2_laplace` sobre `db1`\n",
    "> y `db2` y miramos si podemos calcular la edad de Richard Flores, tal y como \n",
    "> hemos hecho en el ejercicio 10. Todo esto para los diferentes valores de $\\epsilon$.\n",
    ">\n",
    "> Las respuestas respecto al número de sujetos que no han leído *El Quijote* se\n",
    "> van acercando a la real (69 en `db1` y 68 en `db2`) a medida que aumentamos\n",
    "> $\\epsilon$. Si lo comparamos con el resultado de `query_laplace`, se puede apreciar que\n",
    "> ahora hay algo más de ruido para los mismos valores $\\epsilon$, puesto que\n",
    "> la sensibilidad es mayor.\n",
    ">\n",
    "> En cuanto a la edad, vemos que a medida que $\\epsilon$ crece, el cálculo se acerca\n",
    "> más a la edad real. La aleatoriedad puede hacer que haya que ejecutarlo varias\n",
    "> veces para tener una idea del tipo de valor que obtendremos en cada caso.\n",
    "> Para hacerlo de manera rápida (aunque quizás no muy rigurosa), hemos hecho una\n",
    "> función `age_estimation` que se ejecuta mil veces y devuelve la media de todas las ejecuciones."
   ]
  },
  {
   "cell_type": "code",
   "execution_count": 15,
   "metadata": {
    "pycharm": {
     "name": "#%%\n"
    }
   },
   "outputs": [
    {
     "name": "stdout",
     "output_type": "stream",
     "text": [
      "*** epsilon = 0.1\n",
      " DB1: (707, -491)\n",
      " DB2: (706, -83)\n",
      "Age of Richard Flores: -30375.75\n",
      "*** epsilon = 10\n",
      " DB1: (72, 37)\n",
      " DB2: (67, 63)\n",
      "Age of Richard Flores: 28.754\n",
      "*** epsilon = 100\n",
      " DB1: (68, 40)\n",
      " DB2: (68, 40)\n",
      "Age of Richard Flores: 36.77\n"
     ]
    }
   ],
   "source": [
    "def age_estimation(epsilon: float) -> float:\n",
    "    avg = 0\n",
    "    n_loops = 1000\n",
    "    for i in range(n_loops):\n",
    "        q1 = query2_laplace(db1, epsilon)\n",
    "        q2 = query2_laplace(db2, epsilon)\n",
    "        avg += q1[0]*q1[1] - q2[0]*q2[1]\n",
    "    return avg/n_loops\n",
    "\n",
    "for epsilon in [0.1, 10, 100]:\n",
    "    q1 = query2_laplace(db1, epsilon)\n",
    "    q2 = query2_laplace(db2, epsilon)\n",
    "    print(f\"*** epsilon = {epsilon}\")\n",
    "    print(f\" DB1: {q1}\")\n",
    "    print(f\" DB2: {q2}\")\n",
    "\n",
    "    print(f\"Age of Richard Flores: {age_estimation(epsilon)}\")\n",
    "\n"
   ]
  }
 ],
 "metadata": {
  "kernelspec": {
   "display_name": "Python 3",
   "language": "python",
   "name": "python3"
  },
  "language_info": {
   "codemirror_mode": {
    "name": "ipython",
    "version": 3
   },
   "file_extension": ".py",
   "mimetype": "text/x-python",
   "name": "python",
   "nbconvert_exporter": "python",
   "pygments_lexer": "ipython3",
   "version": "3.8.6"
  },
  "name": "dp_mucip.ipynb"
 },
 "nbformat": 4,
 "nbformat_minor": 1
}
