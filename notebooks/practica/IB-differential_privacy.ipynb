{
 "cells": [
  {
   "cell_type": "markdown",
   "metadata": {
    "pycharm": {
     "name": "#%% md\n"
    }
   },
   "source": [
    "\n",
    "<div style=\"width: 100%; clear: both;\">\n",
    "    <div style=\"float: left; width: 50%;\">\n",
    "       <img src=\"http://www.uoc.edu/portal/_resources/common/imatges/marca_UOC/UOC_Masterbrand.jpg\", align=\"left\">\n",
    "    </div>\n",
    "</div>\n",
    "\n",
    "<div style=\"float: right; width: 50%;\">\n",
    "    <p style=\"margin: 0; padding-top: 22px; text-align:right;\">M1.771 · Privacidad</p>\n",
    "    <p style=\"margin: 0; text-align:right;\">Máster Universitario en Ciberseguretat y Privacidad</p>\n",
    "    <p style=\"margin: 0; text-align:right; padding-button: 100px;\">Estudios de Informática, Multimedia y Telecomunicación</p>\n",
    "</div>\n",
    "\n",
    "</div>\n",
    "<div style=\"width: 100%; clear: both;\">\n",
    "<div style=\"width:100%;\">&nbsp;</div>"
   ]
  },
  {
   "cell_type": "markdown",
   "metadata": {
    "pycharm": {
     "name": "#%% md\n"
    }
   },
   "source": [
    "\n",
    "Privacidad\n",
    "============================\n",
    "\n",
    "---\n",
    "\n",
    "Ejercicios resueltos - Privacidad diferencial\n",
    "-----------------------------------------------------\n",
    "\n",
    "---\n",
    "\n",
    "### Instrucciones de uso\n",
    "\n",
    "Este *notebook* contiene un conjunto de ejercicios sobre privacidad diferencial\n",
    "que os pueden servir para practicar los conceptos que se explican en los módulos\n",
    "teóricos.\n",
    "\n",
    "Os recomendamos que intentéis hacer estos problemas vosotros mismos y que, una\n",
    "vez realizados, comparéis vuestra solución con la que os proponemos. No dudéis\n",
    "en dirigiros al foro del aula para consultar todas las cuestiones que surjan a raíz de la resolución de estos\n",
    "ejercicios o bien de las soluciones dadas.\n",
    "\n",
    "Para hacer las actividades propuestas, tendríais que estar familiarizados con\n",
    "las librerías de Python `Pandas` y `NumPy`. Si no conocéis el funcionamiento\n",
    "de estas librerías, os recomendamos que reviséis primero las unidades de los\n",
    "*notebooks* de la asignatura Cimientos de programación que encontraréis en el aula.\n",
    "\n",
    "El uso de varias funciones de las librerías `Pandas` o `NumPy` os puede ser muy\n",
    "útil en la resolución de algunos ejercicios. Como ayuda, algunas preguntas\n",
    "sugieren el uso de alguna de estas funciones en una **nota**. Sois libres de decidir si seguir o no estas\n",
    "recomendaciones. De hecho, puede haber más de una manera de solucionar los ejercicios, y la que os\n",
    "sugerimos puede no ser la mejor.\n",
    "\n",
    "\n",
    "### Introducción\n",
    "\n",
    "En este *notebook* pondremos en práctica algunas ideas básicas de la aplicación\n",
    "de privacidad diferencial. En general, trabajaremos con ejemplos muy sencillos y simularemos\n",
    "el hecho de hacer una consulta a una base de datos, simplemente como\n",
    "un llamamiento a una función en Python que recibe como parámetro la base de datos como\n",
    "un `DataFrame` de `Pandas`. \n"
   ]
  },
  {
   "cell_type": "markdown",
   "metadata": {},
   "source": [
    "Las dos celdas de código siguientes permiten activar las alertas de estilo para el\n",
    "código de este *notebook*. Si queréis comprobar que vuestro código sigue la guía\n",
    "de estilo de Python, podéis descomentarlas y ejecutarlas. A partir de entonces,\n",
    "cualquier otra celda de código que se ejecute pasará una revisión de estilo; también\n",
    "se mostrarán alertas que informarán de las líneas de código que no cumplen con\n",
    "la guía y de cuál es el problema detectado.\n"
   ]
  },
  {
   "cell_type": "code",
   "execution_count": 1,
   "metadata": {
    "pycharm": {
     "name": "#%%\n"
    }
   },
   "outputs": [],
   "source": [
    "# this needs the packages: ppycodestyle, pycodestyle_magic, flake8\n",
    "#%load_ext pycodestyle_magic"
   ]
  },
  {
   "cell_type": "code",
   "execution_count": 2,
   "metadata": {
    "pycharm": {
     "name": "#%%\n"
    }
   },
   "outputs": [],
   "source": [
    "#%pycodestyle_on\n",
    "\n"
   ]
  },
  {
   "cell_type": "markdown",
   "metadata": {},
   "source": [
    "# Privacidad diferencial\n",
    "\n",
    "Se ha hecho una encuesta sobre quién ha leído *El Quijote*. El resultado de la\n",
    "encuesta incluye datos sobre todos los sujetos que la han contestado y proporciona\n",
    "información sobre si el sujeto ha leído o no la novela. Por motivos\n",
    "que se escapan a nuestra compresión se considera la información sobre si un sujeto\n",
    "ha leído o no *El Quijote* como muy sensible y se quiere mantener secreta a toda\n",
    "costa.\n",
    "\n",
    "Los resultados de esta encuesta los encontramos en el fichero `data/quixote_today.csv`.\n",
    "\n",
    "Nuestra base de datos contendrá la información de este fichero, pero\n",
    "limitaremos el acceso. Solo se podrá acceder mediante una API\n",
    "pública, que incluirá una función `query` que devolverá el número de sujetos de la\n",
    "base de datos que SÍ que han leído la novela.\n",
    "\n",
    "Asumimos que los usuarios externos y posibles atacantes solo tienen acceso a la\n",
    "base de datos usando una función `query`. Esta situación puede parecer\n",
    "relativamente segura respecto a la privacidad de los sujetos de la base de datos.\n",
    "También puede parecer que un atacante no podría obtener información sobre si un\n",
    "sujeto concreto ha leído o no *El Quijote*. Como veremos, y como ya debéis de sospechar,\n",
    "esto no es del todo cierto, puesto que dependiendo de la situación en la cual nos encontramos se\n",
    "podría llegar a filtrar información confidencial.\n"
   ]
  },
  {
   "cell_type": "markdown",
   "metadata": {},
   "source": [
    "**Ejercicio 1**\n",
    "\n",
    "Cargad el fichero `data/quixote_today.csv` como un DataFrame de `Pandas`\n",
    "en la variable `db1`.\n"
   ]
  },
  {
   "cell_type": "code",
   "execution_count": 1,
   "metadata": {
    "pycharm": {
     "name": "#%%\n"
    }
   },
   "outputs": [],
   "source": [
    "import pandas as pd\n",
    "\n",
    "\n",
    "def load_db(filename: str) -> pd.DataFrame:\n",
    "    return pd.read_csv(filename)\n",
    "\n",
    "\n",
    "db1 = load_db(\"data/quixote_today.csv\")"
   ]
  },
  {
   "cell_type": "markdown",
   "metadata": {},
   "source": [
    "**Ejercicio 2**\n",
    "\n",
    "Como ya hemos comentado, simularemos que `db1` es la base de datos y que la única manera\n",
    "que tienen los usuarios externos de acceder es mediante la API pública.\n",
    "Esta API proporciona una función `query` que devuelve el número de sujetos\n",
    "que sí que han leído *El Quijote*.\n",
    "\n",
    "Implementad esta función `query` que recibe como parámetro una base de datos, es decir,\n",
    "un DataFrame como `db1`, y que devuelve el número de sujetos que han leído *El Quijote*. Este\n",
    "número es el que se enviará al usuario como respuesta.\n",
    "\n",
    "Probad la función con la base de datos `db1` y mirad qué devuelve.\n"
   ]
  },
  {
   "cell_type": "code",
   "execution_count": 2,
   "metadata": {
    "pycharm": {
     "name": "#%%\n"
    }
   },
   "outputs": [
    {
     "data": {
      "text/plain": [
       "31"
      ]
     },
     "execution_count": 2,
     "metadata": {},
     "output_type": "execute_result"
    }
   ],
   "source": [
    "def query(db: pd.DataFrame) -> int:\n",
    "    return db[\"quixote\"].sum()\n",
    "\n",
    "\n",
    "query(db1)"
   ]
  },
  {
   "cell_type": "markdown",
   "metadata": {},
   "source": [
    "## Posible ataque a la privacidad\n",
    "\n",
    "Suponemos la situación siguiente: acabamos de ver que apenas\n",
    "han encuestado a nuestro vecino Richard Flores y sabemos que sus respuestas se\n",
    "guardan automáticamente a la base de datos. Es decir, podemos hacer una consulta justo\n",
    "después de que se haya hecho la encuesta a Richard Flores.\n",
    "\n",
    "Con esto asumimos que podemos hacer dos consultas: una justo antes de que se haya\n",
    "encuestado a Richard Flores y otra después.\n",
    "\n",
    "En el contexto de la privacidad diferencial esto puede ser equivalente a tener dos bases de datos:\n",
    "una que contiene el registro correspondiente a Richard Flores y la otra que es\n",
    "exactamente igual al anterior pero sin este registro.\n",
    "\n",
    "Por eso usaremos las bases de datos `data/quixote_today.csv` y `data/quixote_yesterday.csv`.\n",
    "De forma que:\n",
    "* `quixote_today.csv` contiene todos el registros, incluyendo el de Richard Flores.\n",
    "* `quixote_yesterday.csv` contiene los mismos registros sin el de Richard Flores.\n"
   ]
  },
  {
   "cell_type": "markdown",
   "metadata": {},
   "source": [
    "**Ejercicio 3**\n",
    "\n",
    "Cargad el fichero `data/quixote_yesterday.csv` y guardad el DataFrame resultante como\n",
    "`bd2`.\n",
    "\n",
    "Probad a hacer la consulta `query` sobre esta base de datos."
   ]
  },
  {
   "cell_type": "code",
   "execution_count": 3,
   "metadata": {
    "pycharm": {
     "name": "#%%\n"
    }
   },
   "outputs": [
    {
     "data": {
      "text/plain": [
       "31"
      ]
     },
     "execution_count": 3,
     "metadata": {},
     "output_type": "execute_result"
    }
   ],
   "source": [
    "db2 = load_db(\"data/quixote_yesterday.csv\")\n",
    "\n",
    "query(db2)"
   ]
  },
  {
   "cell_type": "markdown",
   "metadata": {},
   "source": [
    "**Ejercicio 4**\n",
    "\n",
    "Comparando las dos consultas hechas a `bd1` y `bd2`, podemos saber si Richard Flores\n",
    "ha leído *El Quijote*?"
   ]
  },
  {
   "cell_type": "markdown",
   "metadata": {},
   "source": [
    "> *Respuesta*: \n",
    ">\n"
   ]
  },
  {
   "cell_type": "code",
   "execution_count": 6,
   "metadata": {
    "pycharm": {
     "name": "#%%\n"
    }
   },
   "outputs": [
    {
     "data": {
      "text/plain": [
       "0"
      ]
     },
     "execution_count": 6,
     "metadata": {},
     "output_type": "execute_result"
    }
   ],
   "source": [
    "query(db1) - query(db2)"
   ]
  },
  {
   "cell_type": "markdown",
   "metadata": {},
   "source": [
    "# Mecanismo de Laplace\n",
    "\n",
    "Ahora aplicaremos el mecanismo de Laplace para proteger el acceso a la base de datos\n",
    "e intentar evitar el ataque que hemos visto anteriormente. Es decir, haremos\n",
    "una versión de la función `query` que cumpla privacidad diferencial, y para ello\n",
    "usaremos el mecanismo de Laplace.\n",
    "\n",
    "Recordemos que, en privacidad diferencial, el mecanismo de Laplace se puede aplicar a funciones\n",
    "numéricas del tipo $f: {\\cal D} \\to \\mathbb{R}^k$, es decir, una función que\n",
    "aplicada a la base de datos $X \\in {\\cal D}$ devuelve $k$ números reales (en\n",
    "este caso denotamos como ${\\cal D}$ el conjunto de todas las posibles bases de datos).\n",
    "\n",
    "Para definir el mecanismo de Laplace, hace falta que conozcamos el concepto de *sensibilidad\n",
    "global* y cómo se calcula la distribución de Laplace.\n",
    "\n",
    "La **sensitividad global** o $l_1$-_sensitivity_ de una función $f: {\\cal D} \\to\n",
    "\\mathbb{R}^k$ se define como:\n",
    "\n",
    "$$GS_f = \\max_{X_1, X_2 \\in {\\cal D}, \\ d(X_1, X_2) = 1} \\lVert f(X_1) - f(X_2) \\rVert_{1}$$\n",
    "\n",
    "donde $\\lVert \\cdot \\rVert_1$ es la norma $L_1$. Dado un vector\n",
    "$x \\in \\mathbb{R}^M$, $\\lVert x \\rVert_1 = \\sum_{y=1}^M | x_y |$, es decir, la suma\n",
    "del valor absoluto de todos los elementos del vector. \n",
    "\n",
    "En este caso $X_1$ y $X_2$ pueden ser cualquier par de versiones de la base de datos\n",
    "que difieren en un solo registro. Esto se denota como $d(X_1, X_2) = 1$.\n",
    "\n",
    "Así pues, de manera simplificada podemos definir el mecanismo de Laplace para\n",
    "una función $f: {\\cal D} \\to \\mathbb{R}^k$ como:\n",
    "\n",
    "$$M_L(x,f,\\epsilon) = f(x) + (L_1, \\ldots, L_k)$$\n",
    "\n",
    "donde $L_i$ son variables aleatorias obtenidas a partir de una distribución de Laplace\n",
    "$Lap(GS_f/\\epsilon)$. \n",
    "\n",
    "Recordemos que $Lap(b)$ denota la distribución de Laplace con escala $b$ (y centrada\n",
    "en el 0) que tiene la función de densidad de probabilidades:\n",
    "\n",
    "$$Lap(x,b) = \\frac{1}{2b}\\exp(-\\frac{|x|}{b})$$\n",
    "\n"
   ]
  },
  {
   "cell_type": "markdown",
   "metadata": {},
   "source": [
    "**Ejercicio 5**\n",
    "\n",
    "Calculad cuál es la sensibilidad global de la función `query` que hemos definido\n",
    "anteriormente y guardad su valor en una variable `GS_query`."
   ]
  },
  {
   "cell_type": "markdown",
   "metadata": {},
   "source": [
    "> *Respuesta*: \n",
    ">"
   ]
  },
  {
   "cell_type": "code",
   "execution_count": 7,
   "metadata": {
    "pycharm": {
     "name": "#%%\n"
    }
   },
   "outputs": [],
   "source": [
    "# Implementad aquí la solución al ejercicio propuesto"
   ]
  },
  {
   "cell_type": "markdown",
   "metadata": {
    "pycharm": {
     "name": "#%% md\n"
    }
   },
   "source": [
    "\n",
    "**Ejercicio 6** \n",
    "\n",
    "Definid una nueva función `query_laplace` que use la función anterior\n",
    "`query` y devuelva el resultado de aplicar el mecanismo de Laplace para la función\n",
    "`query`. La nueva función `query_laplace` recibirá como parámetro una base de datos\n",
    "(`DataFrame`) y el valor $\\epsilon$. Para ser coherentes con la interpretación\n",
    "del resultado haremos que devuelva un entero.\n",
    "\n",
    "> **Nota**: podéis usar la función [`numpy.random.Generator.laplace`](https://numpy.org/doc/stable/reference/random/generated/numpy.random.Generator.laplace.html).\n"
   ]
  },
  {
   "cell_type": "code",
   "execution_count": 8,
   "metadata": {
    "pycharm": {
     "name": "#%%\n"
    }
   },
   "outputs": [],
   "source": [
    "# Implementad aquí la solución al ejercicio propuesto"
   ]
  },
  {
   "cell_type": "markdown",
   "metadata": {
    "pycharm": {
     "name": "#%% md\n"
    }
   },
   "source": [
    "**Ejercicio 7**\n",
    "\n",
    "Ejecutad la función `query_laplace` con `db1` y `db2` y comparad el resultado con\n",
    "el de aplicar la función `query`. ¿Qué pasa con $\\epsilon = 0.1$ y con $\\epsilon =\n",
    "10$? Debido a la aleatoriedad de `query_replace`, se recomienda que ejecutéis la función\n",
    "diversas veces.\n",
    "\n",
    "¿Ahora podemos saber si Richard Flores ha leído *El Quijote* si se usa la función\n",
    "`query_laplace`?"
   ]
  },
  {
   "cell_type": "code",
   "execution_count": 9,
   "metadata": {
    "pycharm": {
     "name": "#%%\n"
    }
   },
   "outputs": [],
   "source": [
    "# Implementad aquí la solución al ejercicio propuesto"
   ]
  },
  {
   "cell_type": "markdown",
   "metadata": {},
   "source": [
    "> *Respuesta*: \n",
    ">"
   ]
  },
  {
   "cell_type": "code",
   "execution_count": 10,
   "metadata": {
    "pycharm": {
     "name": "#%%\n"
    }
   },
   "outputs": [],
   "source": [
    "# Implementad aquí la solución al ejercicio propuesto"
   ]
  },
  {
   "cell_type": "markdown",
   "metadata": {},
   "source": [
    "**Ejercicio 8**\n",
    "\n",
    "Para practicar un poco lo que hemos visto, ahora queremos hacer lo mismo pero con una\n",
    "función `query2`, que devolverá el número de sujetos que NO han leído *El Quijote*\n",
    "y su edad media. \n",
    "\n",
    "Para ello definiremos una nueva función que recibe como parámetro una base de datos\n",
    "(un `DataFrame`) y devuelve una tupla de dos números. El primero es el número\n",
    "de personas que NO han leído la novela, y el segundo, su edad media (media aritmética de los que no han leído El Quijote).\n"
   ]
  },
  {
   "cell_type": "code",
   "execution_count": 11,
   "metadata": {
    "pycharm": {
     "name": "#%%\n"
    }
   },
   "outputs": [],
   "source": [
    "# Implementad aquí la solución al ejercicio propuesto"
   ]
  },
  {
   "cell_type": "markdown",
   "metadata": {},
   "source": [
    "**Ejercicio 9**\n",
    "\n",
    "Comparad la ejecución de `query2` con `db1` y `db2`. ¿Ahora podemos saber si\n",
    "Richard Flores ha leído o no *El Quijote*? ¿Tenemos información sobre su edad?"
   ]
  },
  {
   "cell_type": "markdown",
   "metadata": {},
   "source": [
    "> *Respuesta*: \n",
    ">"
   ]
  },
  {
   "cell_type": "code",
   "execution_count": 12,
   "metadata": {
    "pycharm": {
     "name": "#%%\n"
    }
   },
   "outputs": [],
   "source": [
    "# Implementad aquí la solución al ejercicio propuesto"
   ]
  },
  {
   "cell_type": "markdown",
   "metadata": {},
   "source": [
    "**Ejercicio 10**\n",
    "\n",
    "Para evitar el problema anterior, utilizaremos privacidad diferencial.\n",
    "Definid una función `query2_laplace` que devuelva el resultado de aplicar el mecanismo de Laplace a la\n",
    "función `query2`. La nueva función `query2_laplace` recibirá como parámetro una base\n",
    "de datos (un `DataFrame` de` Pandas`) y el valor $\\epsilon$.\n",
    "\n",
    "Tened en cuenta que para poder determinar la sensibilidad global de la función\n",
    "`query2`, el resultado de la misma debe estar acotado. Por ello asumiremos que\n",
    "el atributo `age` puede ser como mínimo 0 y como máximo 100.\n",
    "\n",
    "Probad ahora de ejecutar la función `query2_laplace` en `db1` y en `db2` para $\\epsilon = 0.1$, $\\epsilon =\n",
    "10$ i $\\epsilon=100$.\n",
    "\n",
    "¿Ahora podemos saber si Richard Flores ha leído *El Quijote* o qué edad tiene, tal y\n",
    "como lo hemos hecho en el ejercicio 9?\n"
   ]
  },
  {
   "cell_type": "markdown",
   "metadata": {},
   "source": [
    "> *Respuesta*: \n",
    ">"
   ]
  },
  {
   "cell_type": "code",
   "execution_count": 13,
   "metadata": {
    "pycharm": {
     "name": "#%%\n"
    }
   },
   "outputs": [],
   "source": [
    "# Implementad aquí la solución al ejercicio propuesto"
   ]
  },
  {
   "cell_type": "markdown",
   "metadata": {},
   "source": [
    "> *Respuesta*:\n",
    ">"
   ]
  },
  {
   "cell_type": "code",
   "execution_count": 14,
   "metadata": {
    "pycharm": {
     "name": "#%%\n"
    }
   },
   "outputs": [],
   "source": [
    "# Implementad aquí la solución al ejercicio propuesto"
   ]
  },
  {
   "cell_type": "markdown",
   "metadata": {},
   "source": [
    "> *Respuesta*: \n",
    ">"
   ]
  },
  {
   "cell_type": "code",
   "execution_count": 15,
   "metadata": {
    "pycharm": {
     "name": "#%%\n"
    }
   },
   "outputs": [],
   "source": [
    "# Implementad aquí la solución al ejercicio propuesto"
   ]
  }
 ],
 "metadata": {
  "kernelspec": {
   "display_name": "Python 3",
   "language": "python",
   "name": "python3"
  },
  "language_info": {
   "codemirror_mode": {
    "name": "ipython",
    "version": 3
   },
   "file_extension": ".py",
   "mimetype": "text/x-python",
   "name": "python",
   "nbconvert_exporter": "python",
   "pygments_lexer": "ipython3",
   "version": "3.10.8"
  },
  "name": "dp_mucip.ipynb"
 },
 "nbformat": 4,
 "nbformat_minor": 1
}
