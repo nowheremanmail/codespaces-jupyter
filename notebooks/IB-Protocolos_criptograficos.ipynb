{
 "cells": [
  {
   "cell_type": "markdown",
   "metadata": {
    "colab_type": "text",
    "id": "YELkNM66tRxz"
   },
   "source": [
    "<div style=\"width: 100%; clear: both;\">\n",
    "    <div style=\"float: left; width: 50%;\">\n",
    "       <img src=\"http://www.uoc.edu/portal/_resources/common/imatges/marca_UOC/UOC_Masterbrand.jpg\", align=\"left\">\n",
    "    </div>\n",
    "</div>\n",
    "\n",
    "<div style=\"float: right; width: 50%;\">\n",
    "    <p style=\"margin: 0; padding-top: 22px; text-align:right;\">M1.871 · Privacidad</p>\n",
    "    <p style=\"margin: 0; text-align:right;\">Máster Universitario en Ciberseguridad y Privacidad</p>\n",
    "    <p style=\"margin: 0; text-align:right; padding-button: 100px;\">Estudios de Informática, Multimedia y Telecomunicación</p>\n",
    "</div>\n",
    "\n",
    "</div>\n",
    "<div style=\"width: 100%; clear: both;\">\n",
    "<div style=\"width:100%;\">&nbsp;</div>"
   ]
  },
  {
   "cell_type": "markdown",
   "metadata": {
    "colab_type": "text",
    "id": "LtmDGYdGtRx0"
   },
   "source": [
    "Privacidad\n",
    "============================\n",
    "\n",
    "--- \n",
    "\n",
    "Ejercicios resueltos - Protocolos criptográficos\n",
    "-----------------------------------------------------\n",
    "\n",
    "---\n",
    "\n",
    "### Instrucciones de uso\n",
    "\n",
    "Este *notebook* contiene un conjunto de ejercicios sobre protocolos criptográficos que permiten preservar la privacidad, que os pueden servir para practicar los conceptos explicados en los módulos teóricos.\n",
    "\n",
    "Os recomendamos que intentéis hacer estos problemas vosotros mismos y que, una vez realizados, comparéis la solución que os proponemos con la vuestra. No dudéis en dirigir al foro del aula todas las dudas que surjan de la resolución de estos ejercicios o bien de las soluciones propuestas.\n",
    "\n",
    "Para hacer las actividades propuestas, tendríais que estar familiarizados con la programación en Python. Si no habéis programado nunca usando este lenguaje, os recomendamos que reviséis las unidades de introducción a la programación Python que encontraréis en el aula.\n",
    "\n",
    "\n",
    "### Introducción\n",
    "\n",
    "En estos ejercicios implementaremos un conjunto de protocolos criptográficos que se encuentran en el módulo teórico de protocolos criptográficos. Estos protocolos se ejecutan entre un conjunto de agentes o entidades (normalmente dos, pero, para algunos protocolos, pueden ser más). Para implementar estas entidades, usaremos programación orientada a objetos: cada entidad estará representada por una clase de Python. Los métodos de las clases implementarán las diferentes acciones que puede hacer cada entidad. Así, las actividades consistirán, por un lado, en implementar los métodos de las clases que representan los actores de cada protocolo y, por otro lado, en ejecutar el protocolo completo haciendo interactuar los diferentes actores. Adicionalmente, podéis crear las funciones auxiliares que consideréis de interés para resolver los ejercicios.\n",
    "\n",
    "A continuación encontraréis una pequeña [introducción en la programación orientada a objetos en Python](#1.-Introducción-a-la-programación-orientada-a-objetos-en-Python), donde se explican los conceptos clave de este paradigma de programación (que serán necesarios para resolver las actividades), así como la [definición de funciones y variables auxiliares](#2.--Definición-de-funciones-y-variables-auxiliares) que podéis usar en la implementación de los protocolos.\n",
    "\n",
    "Después, se incluyen los enunciados de dos actividades:\n",
    "* [Ejercicio 1](#3.-La-prueba-de-conocimiento-nulo-del-logaritmo-discreto): La prueba de conocimiento nulo del logaritmo discreto\n",
    "* [Ejercicio 2](#4.-El-protocolo-de-PIR-de-Kushilevitz-y-Ostrovsky): El protocolo de PIR de Kushilevitz y Ostrovsky"
   ]
  },
  {
   "cell_type": "markdown",
   "metadata": {
    "colab_type": "text",
    "id": "CXIufKgVtRx1"
   },
   "source": [
    "**Nota:** Las dos celdas de código siguientes permiten activar las alertas de estilo para el código de este *notebook*. Si queréis comprobar que vuestro código sigue la guía de estilo de Python, podéis descomentarlas y ejecutarlas. A partir de entonces, cualquier otra celda de código que se ejecute pasará una revisión de estilo y se mostrarán alertas que avisarán de las líneas de código que no cumplan con la guía, informando de cuál es el problema detectado."
   ]
  },
  {
   "cell_type": "code",
   "execution_count": 1,
   "metadata": {
    "colab": {},
    "colab_type": "code",
    "id": "z52Ng2vHtRx1"
   },
   "outputs": [
    {
     "ename": "ModuleNotFoundError",
     "evalue": "No module named 'pycodestyle_magic'",
     "output_type": "error",
     "traceback": [
      "\u001b[0;31m---------------------------------------------------------------------------\u001b[0m",
      "\u001b[0;31mModuleNotFoundError\u001b[0m                       Traceback (most recent call last)",
      "Cell \u001b[0;32mIn[1], line 1\u001b[0m\n\u001b[0;32m----> 1\u001b[0m \u001b[43mget_ipython\u001b[49m\u001b[43m(\u001b[49m\u001b[43m)\u001b[49m\u001b[38;5;241;43m.\u001b[39;49m\u001b[43mrun_line_magic\u001b[49m\u001b[43m(\u001b[49m\u001b[38;5;124;43m'\u001b[39;49m\u001b[38;5;124;43mload_ext\u001b[39;49m\u001b[38;5;124;43m'\u001b[39;49m\u001b[43m,\u001b[49m\u001b[43m \u001b[49m\u001b[38;5;124;43m'\u001b[39;49m\u001b[38;5;124;43mpycodestyle_magic\u001b[39;49m\u001b[38;5;124;43m'\u001b[39;49m\u001b[43m)\u001b[49m\n",
      "File \u001b[0;32m~/.local/lib/python3.10/site-packages/IPython/core/interactiveshell.py:2432\u001b[0m, in \u001b[0;36mInteractiveShell.run_line_magic\u001b[0;34m(self, magic_name, line, _stack_depth)\u001b[0m\n\u001b[1;32m   2430\u001b[0m     kwargs[\u001b[38;5;124m'\u001b[39m\u001b[38;5;124mlocal_ns\u001b[39m\u001b[38;5;124m'\u001b[39m] \u001b[38;5;241m=\u001b[39m \u001b[38;5;28mself\u001b[39m\u001b[38;5;241m.\u001b[39mget_local_scope(stack_depth)\n\u001b[1;32m   2431\u001b[0m \u001b[38;5;28;01mwith\u001b[39;00m \u001b[38;5;28mself\u001b[39m\u001b[38;5;241m.\u001b[39mbuiltin_trap:\n\u001b[0;32m-> 2432\u001b[0m     result \u001b[38;5;241m=\u001b[39m \u001b[43mfn\u001b[49m\u001b[43m(\u001b[49m\u001b[38;5;241;43m*\u001b[39;49m\u001b[43margs\u001b[49m\u001b[43m,\u001b[49m\u001b[43m \u001b[49m\u001b[38;5;241;43m*\u001b[39;49m\u001b[38;5;241;43m*\u001b[39;49m\u001b[43mkwargs\u001b[49m\u001b[43m)\u001b[49m\n\u001b[1;32m   2434\u001b[0m \u001b[38;5;66;03m# The code below prevents the output from being displayed\u001b[39;00m\n\u001b[1;32m   2435\u001b[0m \u001b[38;5;66;03m# when using magics with decorator @output_can_be_silenced\u001b[39;00m\n\u001b[1;32m   2436\u001b[0m \u001b[38;5;66;03m# when the last Python token in the expression is a ';'.\u001b[39;00m\n\u001b[1;32m   2437\u001b[0m \u001b[38;5;28;01mif\u001b[39;00m \u001b[38;5;28mgetattr\u001b[39m(fn, magic\u001b[38;5;241m.\u001b[39mMAGIC_OUTPUT_CAN_BE_SILENCED, \u001b[38;5;28;01mFalse\u001b[39;00m):\n",
      "File \u001b[0;32m~/.local/lib/python3.10/site-packages/IPython/core/magics/extension.py:33\u001b[0m, in \u001b[0;36mExtensionMagics.load_ext\u001b[0;34m(self, module_str)\u001b[0m\n\u001b[1;32m     31\u001b[0m \u001b[38;5;28;01mif\u001b[39;00m \u001b[38;5;129;01mnot\u001b[39;00m module_str:\n\u001b[1;32m     32\u001b[0m     \u001b[38;5;28;01mraise\u001b[39;00m UsageError(\u001b[38;5;124m'\u001b[39m\u001b[38;5;124mMissing module name.\u001b[39m\u001b[38;5;124m'\u001b[39m)\n\u001b[0;32m---> 33\u001b[0m res \u001b[38;5;241m=\u001b[39m \u001b[38;5;28;43mself\u001b[39;49m\u001b[38;5;241;43m.\u001b[39;49m\u001b[43mshell\u001b[49m\u001b[38;5;241;43m.\u001b[39;49m\u001b[43mextension_manager\u001b[49m\u001b[38;5;241;43m.\u001b[39;49m\u001b[43mload_extension\u001b[49m\u001b[43m(\u001b[49m\u001b[43mmodule_str\u001b[49m\u001b[43m)\u001b[49m\n\u001b[1;32m     35\u001b[0m \u001b[38;5;28;01mif\u001b[39;00m res \u001b[38;5;241m==\u001b[39m \u001b[38;5;124m'\u001b[39m\u001b[38;5;124malready loaded\u001b[39m\u001b[38;5;124m'\u001b[39m:\n\u001b[1;32m     36\u001b[0m     \u001b[38;5;28mprint\u001b[39m(\u001b[38;5;124m\"\u001b[39m\u001b[38;5;124mThe \u001b[39m\u001b[38;5;132;01m%s\u001b[39;00m\u001b[38;5;124m extension is already loaded. To reload it, use:\u001b[39m\u001b[38;5;124m\"\u001b[39m \u001b[38;5;241m%\u001b[39m module_str)\n",
      "File \u001b[0;32m~/.local/lib/python3.10/site-packages/IPython/core/extensions.py:76\u001b[0m, in \u001b[0;36mExtensionManager.load_extension\u001b[0;34m(self, module_str)\u001b[0m\n\u001b[1;32m     69\u001b[0m \u001b[38;5;250m\u001b[39m\u001b[38;5;124;03m\"\"\"Load an IPython extension by its module name.\u001b[39;00m\n\u001b[1;32m     70\u001b[0m \n\u001b[1;32m     71\u001b[0m \u001b[38;5;124;03mReturns the string \"already loaded\" if the extension is already loaded,\u001b[39;00m\n\u001b[1;32m     72\u001b[0m \u001b[38;5;124;03m\"no load function\" if the module doesn't have a load_ipython_extension\u001b[39;00m\n\u001b[1;32m     73\u001b[0m \u001b[38;5;124;03mfunction, or None if it succeeded.\u001b[39;00m\n\u001b[1;32m     74\u001b[0m \u001b[38;5;124;03m\"\"\"\u001b[39;00m\n\u001b[1;32m     75\u001b[0m \u001b[38;5;28;01mtry\u001b[39;00m:\n\u001b[0;32m---> 76\u001b[0m     \u001b[38;5;28;01mreturn\u001b[39;00m \u001b[38;5;28;43mself\u001b[39;49m\u001b[38;5;241;43m.\u001b[39;49m\u001b[43m_load_extension\u001b[49m\u001b[43m(\u001b[49m\u001b[43mmodule_str\u001b[49m\u001b[43m)\u001b[49m\n\u001b[1;32m     77\u001b[0m \u001b[38;5;28;01mexcept\u001b[39;00m \u001b[38;5;167;01mModuleNotFoundError\u001b[39;00m:\n\u001b[1;32m     78\u001b[0m     \u001b[38;5;28;01mif\u001b[39;00m module_str \u001b[38;5;129;01min\u001b[39;00m BUILTINS_EXTS:\n",
      "File \u001b[0;32m~/.local/lib/python3.10/site-packages/IPython/core/extensions.py:91\u001b[0m, in \u001b[0;36mExtensionManager._load_extension\u001b[0;34m(self, module_str)\u001b[0m\n\u001b[1;32m     89\u001b[0m \u001b[38;5;28;01mwith\u001b[39;00m \u001b[38;5;28mself\u001b[39m\u001b[38;5;241m.\u001b[39mshell\u001b[38;5;241m.\u001b[39mbuiltin_trap:\n\u001b[1;32m     90\u001b[0m     \u001b[38;5;28;01mif\u001b[39;00m module_str \u001b[38;5;129;01mnot\u001b[39;00m \u001b[38;5;129;01min\u001b[39;00m sys\u001b[38;5;241m.\u001b[39mmodules:\n\u001b[0;32m---> 91\u001b[0m         mod \u001b[38;5;241m=\u001b[39m \u001b[43mimport_module\u001b[49m\u001b[43m(\u001b[49m\u001b[43mmodule_str\u001b[49m\u001b[43m)\u001b[49m\n\u001b[1;32m     92\u001b[0m     mod \u001b[38;5;241m=\u001b[39m sys\u001b[38;5;241m.\u001b[39mmodules[module_str]\n\u001b[1;32m     93\u001b[0m     \u001b[38;5;28;01mif\u001b[39;00m \u001b[38;5;28mself\u001b[39m\u001b[38;5;241m.\u001b[39m_call_load_ipython_extension(mod):\n",
      "File \u001b[0;32m~/.python/current/lib/python3.10/importlib/__init__.py:126\u001b[0m, in \u001b[0;36mimport_module\u001b[0;34m(name, package)\u001b[0m\n\u001b[1;32m    124\u001b[0m             \u001b[38;5;28;01mbreak\u001b[39;00m\n\u001b[1;32m    125\u001b[0m         level \u001b[38;5;241m+\u001b[39m\u001b[38;5;241m=\u001b[39m \u001b[38;5;241m1\u001b[39m\n\u001b[0;32m--> 126\u001b[0m \u001b[38;5;28;01mreturn\u001b[39;00m \u001b[43m_bootstrap\u001b[49m\u001b[38;5;241;43m.\u001b[39;49m\u001b[43m_gcd_import\u001b[49m\u001b[43m(\u001b[49m\u001b[43mname\u001b[49m\u001b[43m[\u001b[49m\u001b[43mlevel\u001b[49m\u001b[43m:\u001b[49m\u001b[43m]\u001b[49m\u001b[43m,\u001b[49m\u001b[43m \u001b[49m\u001b[43mpackage\u001b[49m\u001b[43m,\u001b[49m\u001b[43m \u001b[49m\u001b[43mlevel\u001b[49m\u001b[43m)\u001b[49m\n",
      "File \u001b[0;32m<frozen importlib._bootstrap>:1050\u001b[0m, in \u001b[0;36m_gcd_import\u001b[0;34m(name, package, level)\u001b[0m\n",
      "File \u001b[0;32m<frozen importlib._bootstrap>:1027\u001b[0m, in \u001b[0;36m_find_and_load\u001b[0;34m(name, import_)\u001b[0m\n",
      "File \u001b[0;32m<frozen importlib._bootstrap>:1004\u001b[0m, in \u001b[0;36m_find_and_load_unlocked\u001b[0;34m(name, import_)\u001b[0m\n",
      "\u001b[0;31mModuleNotFoundError\u001b[0m: No module named 'pycodestyle_magic'"
     ]
    }
   ],
   "source": [
    "%load_ext pycodestyle_magic"
   ]
  },
  {
   "cell_type": "code",
   "execution_count": null,
   "metadata": {
    "colab": {},
    "colab_type": "code",
    "id": "772F5kzktRx5"
   },
   "outputs": [],
   "source": [
    "%pycodestyle_on"
   ]
  },
  {
   "cell_type": "markdown",
   "metadata": {
    "colab_type": "text",
    "id": "CmrVc6fqtRx7"
   },
   "source": [
    "# 1. Introducción a la programación orientada a objetos en Python\n",
    "\n",
    "Python nos permite crear clases, de forma que podemos aprovechar todas las ventajas de la programación orientada a objetos también en este lenguaje. En esta sección, presentaremos las funcionalidades más esenciales de las clases de Python y aprovecharemos para repasar los conceptos básicos de programación orientada a objetos.\n",
    "\n",
    "Para **definir** una clase en Python usamos la palabra clave `class`. Dentro de una clase podremos definir un conjunto de **métodos**, que no son más que funciones que sirven de interfaz de la clase con lo que hay fuera de esta. "
   ]
  },
  {
   "cell_type": "code",
   "execution_count": 1,
   "metadata": {
    "colab": {},
    "colab_type": "code",
    "id": "Cgbwt4yJtRx8"
   },
   "outputs": [],
   "source": [
    "class Client:\n",
    "\n",
    "    def public_value(self):\n",
    "        self.k_pub = pow(self.alpha, self.a, self.p)\n",
    "        return self.k_pub\n",
    "\n",
    "    def shared_key(self, k_pub_counter_part):\n",
    "        self.shared_key = pow(k_pub_counter_part, self.a, self.p)\n",
    "        return self.shared_key"
   ]
  },
  {
   "cell_type": "markdown",
   "metadata": {
    "colab_type": "text",
    "id": "82X8GV5RtRx-"
   },
   "source": [
    "Del mismo modo que con la definición de funciones, la definición de una clase es solo una descripción de esta. Por lo tanto, al describir una clase no estamos ejecutando nada. Para crear un objeto de una clase, necesitaremos ***instanciar*** esta clase. La notación que se usa en Python para crear una instancia de una clase consiste en usar el nombre de la clase seguido de dos paréntesis, como si fuera una llamada a una función:\n"
   ]
  },
  {
   "cell_type": "code",
   "execution_count": 2,
   "metadata": {
    "colab": {},
    "colab_type": "code",
    "id": "4ztGSdBRtRx-"
   },
   "outputs": [],
   "source": [
    "un_cliente = Client()"
   ]
  },
  {
   "cell_type": "markdown",
   "metadata": {
    "colab_type": "text",
    "id": "c2ZPGqZdtRyB"
   },
   "source": [
    "De este modo, la variable `un_cliente` contiene una instancia de la clase `Client`. Esto nos crearía un cliente sin datos. A veces, sin embargo, nos puede interesar personalizar esta inicialización. Las clases tienen un método especial que se denomina **constructor** (`__init__`) y que se llama cuando se tiene que instanciar una clase. Así pues, si incluimos este método especial en nuestra clase, el método se invocará cuando se instancie un nuevo objeto. "
   ]
  },
  {
   "cell_type": "code",
   "execution_count": 3,
   "metadata": {
    "colab": {},
    "colab_type": "code",
    "id": "LIQMHs1ttRyB"
   },
   "outputs": [],
   "source": [
    "class Client:\n",
    "\n",
    "    def __init__(self):\n",
    "        self.alpha = 3\n",
    "        self.a = 221\n",
    "        self.p = 1087\n",
    "\n",
    "    def public_value(self):\n",
    "        self.k_pub = pow(self.alpha, self.a, self.p)\n",
    "        return self.k_pub\n",
    "\n",
    "    def shared_key(self, k_pub_counter_part):\n",
    "        self.shared_key = pow(k_pub_counter_part, self.a, self.p)\n",
    "        return self.shared_key\n",
    "\n",
    "\n",
    "un_cliente = Client()"
   ]
  },
  {
   "cell_type": "markdown",
   "metadata": {
    "colab_type": "text",
    "id": "zrx_UyGvtRyE"
   },
   "source": [
    "Ahora, al crear un objeto de la clase `Client`, el objeto contendría una variable con los tres valores especificados. Adicionalmente, el método `__init__` acepta parámetros, lo que nos permite personalizar todavía más la inicialización de los objetos de nuestra clase."
   ]
  },
  {
   "cell_type": "code",
   "execution_count": 4,
   "metadata": {
    "colab": {},
    "colab_type": "code",
    "id": "RS9UztSFtRyE"
   },
   "outputs": [],
   "source": [
    "class Client:\n",
    "\n",
    "    def __init__(self, alpha, a, p):\n",
    "        self.alpha = alpha\n",
    "        self.a = a\n",
    "        self.p = p\n",
    "\n",
    "    def public_value(self):\n",
    "        self.k_pub = pow(self.alpha, self.a, self.p)\n",
    "        return self.k_pub\n",
    "\n",
    "    def shared_key(self, k_pub_counter_part):\n",
    "        self.shared_key = pow(k_pub_counter_part, self.a, self.p)\n",
    "        return self.shared_key\n",
    "\n",
    "\n",
    "un_cliente = Client(3, 221, 1087)\n",
    "otro_cliente = Client(3, 254, 1087)"
   ]
  },
  {
   "cell_type": "markdown",
   "metadata": {
    "colab_type": "text",
    "id": "0thJfXhGtRyH"
   },
   "source": [
    "Con este código, especificaremos los tres parámetros que queremos que almacene cada cliente en el momento de instanciar la clase. De este modo, podemos crear dos objetos de la clase cliente, cada uno de los cuales tiene unos parámetros diferentes almacenados.\n",
    "\n",
    "Una vez tenemos una instancia de una clase, podemos invocar los métodos. Para hacerlo, usaremos el nombre del objeto seguido de un punto, el nombre del método y unos paréntesis entre los que incluiremos los argumentos:"
   ]
  },
  {
   "cell_type": "code",
   "execution_count": 5,
   "metadata": {},
   "outputs": [
    {
     "data": {
      "text/plain": [
       "731"
      ]
     },
     "execution_count": 5,
     "metadata": {},
     "output_type": "execute_result"
    }
   ],
   "source": [
    "un_cliente.shared_key(679)"
   ]
  },
  {
   "cell_type": "markdown",
   "metadata": {
    "colab_type": "text",
    "id": "VGz5GMxCtRyK"
   },
   "source": [
    "En los ejemplos de código que hemos visto hasta ahora puede parecer que hay un error: el número de argumentos que usamos al instanciar el objeto o llamar a los métodos es diferente del número de argumentos que hay en la definición de los respectivos métodos. Precisamente, lo que distingue los métodos de una clase de las funciones es que el primer argumento que reciben como parámetro es un objeto de la misma clase. Por convención, denominamos este primer argumento **`self`**. Así pues, la llamada a `blind_message` anterior es equivalente a:"
   ]
  },
  {
   "cell_type": "code",
   "execution_count": 6,
   "metadata": {},
   "outputs": [
    {
     "data": {
      "text/plain": [
       "731"
      ]
     },
     "execution_count": 6,
     "metadata": {},
     "output_type": "execute_result"
    }
   ],
   "source": [
    "Client.shared_key(un_cliente, 679)"
   ]
  },
  {
   "cell_type": "markdown",
   "metadata": {
    "colab_type": "text",
    "id": "3g1E-k05tRyM"
   },
   "source": [
    "Este primer argumento nos permite llamar métodos de la clase desde la misma clase:"
   ]
  },
  {
   "cell_type": "code",
   "execution_count": 7,
   "metadata": {
    "colab": {},
    "colab_type": "code",
    "id": "kYeL3zHWtRyN"
   },
   "outputs": [],
   "source": [
    "class Client:\n",
    "\n",
    "    def shared_key(self, k_pub_counter_part):\n",
    "        self.shared_key = pow(k_pub_counter_part, self.a, self.p)\n",
    "        return self.shared_key\n",
    "\n",
    "    def call_shared_key(self, k_pub_counter_part):\n",
    "        self.shared_key()"
   ]
  },
  {
   "cell_type": "markdown",
   "metadata": {
    "colab_type": "text",
    "id": "FQV7P6xetRyP"
   },
   "source": [
    "Otro detalle que podemos apreciar de los ejemplos son las asignaciones que se hacen a `self.alpha`, `self.a` y `self.p`, entre otros. Estas variables son **variables de instancia**, de forma que cada instancia de la clase `Client` tendrá su copia de estas variables. En Python también podemos definir **variables de clase**, que son variables que comparten todas las instancias de una misma clase. En el siguiente ejemplo, podemos ver la diferencia entre los dos tipos de variables:"
   ]
  },
  {
   "cell_type": "code",
   "execution_count": 8,
   "metadata": {
    "colab": {},
    "colab_type": "code",
    "id": "oIvjibS7tRyP"
   },
   "outputs": [],
   "source": [
    "class Client:\n",
    "\n",
    "    shared_type = \"DH\"\n",
    "\n",
    "    def __init__(self, alpha, a, p):\n",
    "        self.alpha = alpha\n",
    "        self.a = a\n",
    "        self.p = p"
   ]
  },
  {
   "cell_type": "code",
   "execution_count": 9,
   "metadata": {
    "colab": {
     "base_uri": "https://localhost:8080/",
     "height": 50
    },
    "colab_type": "code",
    "id": "w_KsfSEmtRyU",
    "outputId": "d9d1ac68-438e-4807-acc8-e7bf39888013"
   },
   "outputs": [
    {
     "name": "stdout",
     "output_type": "stream",
     "text": [
      "3 221 1087\n",
      "3 254 1087\n"
     ]
    }
   ],
   "source": [
    "cliente_1 = Client(3, 221, 1087)\n",
    "cliente_2 = Client(3, 254, 1087)\n",
    "\n",
    "print(cliente_1.alpha, cliente_1.a, cliente_1.p)\n",
    "print(cliente_2.alpha, cliente_2.a, cliente_2.p)"
   ]
  },
  {
   "cell_type": "code",
   "execution_count": 10,
   "metadata": {
    "colab": {
     "base_uri": "https://localhost:8080/",
     "height": 50
    },
    "colab_type": "code",
    "id": "JBLviq6VtRyX",
    "outputId": "36c2a9ec-26da-42d3-92b7-e713f91c03c4"
   },
   "outputs": [
    {
     "name": "stdout",
     "output_type": "stream",
     "text": [
      "DH DH DH\n",
      "ECDH ECDH ECDH\n"
     ]
    }
   ],
   "source": [
    "print(Client.shared_type, cliente_1.shared_type, cliente_2.shared_type)\n",
    "Client.shared_type = \"ECDH\"\n",
    "print(Client.shared_type, cliente_1.shared_type, cliente_2.shared_type)"
   ]
  },
  {
   "cell_type": "markdown",
   "metadata": {
    "colab_type": "text",
    "id": "2WstOtsOtRyZ"
   },
   "source": [
    "Hay que tener cuidado a la hora de modificar los valores de las variables de clase, puesto que hacerlo a través de los objetos puede tener resultados diferentes de los que esperaría el programador. El lector interesado puede consultar la extensa documentación en línea ([1](http://stackoverflow.com/questions/68645/static-class-variables-in-python), [2](http://anandology.com/python-practice-book/object_oriented_programming.html)) para adentrarse en el mundo de la programación orientada a objetos en Python, a pesar de que lo que hemos visto en esta sección es suficiente para realizar la práctica."
   ]
  },
  {
   "cell_type": "markdown",
   "metadata": {
    "colab_type": "text",
    "id": "tELFP0QwFdYo"
   },
   "source": [
    "Finalmente, una vez tenemos definidos a los usuarios de nuestro protocolo como clases de Python, podemos implementar todo el protocolo haciendo llamadas a estas clases. Por ejemplo, la clase `Client` del ejemplo anterior corresponde a un usuario del protocolo de intercambio de claves de Diffie y Hellman. Por lo tanto, la implementación del protocolo sería la que se muestra a continuación. "
   ]
  },
  {
   "cell_type": "code",
   "execution_count": 11,
   "metadata": {
    "colab": {
     "base_uri": "https://localhost:8080/",
     "height": 34
    },
    "colab_type": "code",
    "id": "GTA6feQFGPba",
    "outputId": "54f32e46-b275-4022-af80-70e77e972907"
   },
   "outputs": [
    {
     "name": "stdout",
     "output_type": "stream",
     "text": [
      "Shared key obtained by A = 895. Shared key obtained by B = 895\n"
     ]
    }
   ],
   "source": [
    "class Client:\n",
    "\n",
    "    def __init__(self, alpha, a, p):\n",
    "        self.alpha = alpha\n",
    "        self.a = a\n",
    "        self.p = p\n",
    "\n",
    "    def public_value(self):\n",
    "        self.k_pub = pow(self.alpha, self.a, self.p)\n",
    "        return self.k_pub\n",
    "\n",
    "    def shared_key(self, k_pub_counter_part):\n",
    "        self.shared_key = pow(k_pub_counter_part, self.a, self.p)\n",
    "        return self.shared_key\n",
    "\n",
    "\n",
    "user_A = Client(3, 221, 1087)\n",
    "user_B = Client(3, 254, 1087)\n",
    "\n",
    "protocol_step_1 = user_A.public_value()\n",
    "protocol_step_2 = user_B.public_value()\n",
    "shared_key_A = user_A.shared_key(protocol_step_2)\n",
    "shared_key_B = user_B.shared_key(protocol_step_1)\n",
    "\n",
    "print(\"Shared key obtained by A = {}. Shared key obtained by B = {}\".format(\n",
    "            shared_key_A, shared_key_B))"
   ]
  },
  {
   "cell_type": "markdown",
   "metadata": {
    "colab_type": "text",
    "id": "vzpX9zHCtRyZ"
   },
   "source": [
    "# 2. Definición de funciones y variables auxiliares"
   ]
  },
  {
   "cell_type": "markdown",
   "metadata": {
    "colab_type": "text",
    "id": "ZANl0i6VtRyZ"
   },
   "source": [
    "La celda de código siguiente contiene definiciones de constantes, clases y funciones que se usan en la implementación de los protocolos criptográficos de este *notebook*. Veréis que estas definiciones se usan en los esqueletos que os proporcionamos como base para realizar las actividades. Además, podéis usar estas funciones para implementar vuestras soluciones siempre que lo necesitéis.\n",
    "\n",
    "La clase `InvalidParams` (que hereda de la clase [`Exception`](https://docs.python.org/3/library/exceptions.html#Exception)) se usa para lanzar excepciones producidas por una inicialización de parámetros incorrecta. Por ejemplo, si tuviéramos una clase que almacenara claves RSA, podríamos usar `InvalidParams` para lanzar una excepción si se intenta crear un objeto de la clase RSA usando valores de $p$ y $q$ que no fueran primos.\n",
    "\n",
    "La función `print_debug` se usa para mostrar mensajes por la salida estándar, condicionados a los niveles de *log* actual (indicado por la constante `LOG_LEVEL`) y del mensaje (indicado por el parámetro `log_level`). Así, la función mostrará en la pantalla el mensaje que reciba como primer parámetro si el nivel de *log* indicado por el mensaje es inferior o igual al nivel de *log* especificado por la constante `LOG_LEVEL`."
   ]
  },
  {
   "cell_type": "code",
   "execution_count": 12,
   "metadata": {
    "colab": {},
    "colab_type": "code",
    "id": "uis_oDgFtRya"
   },
   "outputs": [],
   "source": [
    "# Log level constants\n",
    "LOG_CRITICAL = 0\n",
    "LOG_INFO = 1\n",
    "LOG_DEBUG = 2\n",
    "\n",
    "# Current log level\n",
    "LOG_LEVEL = LOG_CRITICAL\n",
    "\n",
    "\n",
    "class InvalidParams(Exception):\n",
    "    \"\"\"\n",
    "    Exception raised when the initialization params are not valid\n",
    "    \"\"\"\n",
    "    pass\n",
    "\n",
    "\n",
    "def print_debug(msg, log_level):\n",
    "    \"\"\"\n",
    "    Prints a message if log_level <= LOG_LEVEL\n",
    "    :param msg: string, the message to print\n",
    "    :param log_level: int, message's level\n",
    "    \"\"\"\n",
    "    if log_level <= LOG_LEVEL:\n",
    "        print(msg)"
   ]
  },
  {
   "cell_type": "markdown",
   "metadata": {
    "colab_type": "text",
    "id": "csGpieD-tRyc"
   },
   "source": [
    "# 3. La prueba de conocimiento nulo del logaritmo discreto\n",
    "\n",
    "En este primer ejercicio implementaremos el protocolo de **prueba de conocimiento nulo** que está descrito en el módulo de *Protocolos criptográficos* de los materiales de la asignatura.\n",
    "\n",
    "Así pues, nuestro protocolo estará formado por dos usuarios: un probador y un verificador. El probador querrá demostrar al verificador que conoce un valor secreto, pero sin revelarlo. \n",
    "\n",
    "Para que nuestro protocolo pueda ser implementado, usaremos programación orientada a objetos y definiremos dos clases, una para el probador y otra para el verificador.\n",
    "\n",
    "La clase para el **probador** la definiremos de la manera siguiente:"
   ]
  },
  {
   "cell_type": "code",
   "execution_count": 29,
   "metadata": {
    "colab": {},
    "colab_type": "code",
    "id": "xt2cnlWGtRyd"
   },
   "outputs": [],
   "source": [
    "from sympy.ntheory.residue_ntheory import is_primitive_root\n",
    "from sympy.ntheory.primetest import isprime\n",
    "import numpy as np\n",
    "\n",
    "class UocZkpProver:\n",
    "    \"\"\"\n",
    "    Class representing a honest prover. The prover knowns a value x\n",
    "        such that g^x = y mod p, and wants to prove this knowledge\n",
    "        without revealing x.\n",
    "    \"\"\"\n",
    "\n",
    "    def __init__(self, p, g, y, x, name=\"HonestProver\"):\n",
    "        \"\"\"\n",
    "        Initializes the prover. Checks the validity of the arguments,\n",
    "        sets the public parameters p, g, y and sets the\n",
    "        secret x.\n",
    "\n",
    "        This method has to initialize instance variables p, g, y and\n",
    "        x (r will remain unset until compute_c method is called).\n",
    "\n",
    "        :param p: integer, modulus\n",
    "        :param g: integer, base\n",
    "        :param y: integer, g^x mod p\n",
    "        :param x: integer, secret\n",
    "        :param name: optional string, name of the prover (to be used\n",
    "            when printing data to the console)\n",
    "        \"\"\"\n",
    "\n",
    "        self.p = None\n",
    "        self.g = None\n",
    "        self.y = None\n",
    "        self.x = None\n",
    "        self.r = None\n",
    "        self.name = name\n",
    "\n",
    "        try:\n",
    "            assert (isprime(p))\n",
    "            assert (y < p)\n",
    "            assert (is_primitive_root(g, p))\n",
    "            if x is not None:\n",
    "                assert (pow(g, x, p) == y)\n",
    "        except:\n",
    "            raise InvalidParams\n",
    "\n",
    "        self.p = p\n",
    "        self.g = g\n",
    "        self.y = y\n",
    "        self.x = x\n",
    "\n",
    "        print_debug(\"{}:\\tInitialized with p = {}, g = {}, y = {} and x = {}\".\n",
    "                    format(self.name, self.p, self.g, self.y, self.x),\n",
    "                    LOG_INFO)\n",
    "\n",
    "    def compute_c(self):\n",
    "        \"\"\"\n",
    "        Chooses a random r and computes c.\n",
    "\n",
    "        This method must set self.r.\n",
    "        :return: integer, c\n",
    "        \"\"\"\n",
    "\n",
    "        c = None\n",
    "\n",
    "        # --- IMPLEMENTATION GOES HERE ---\n",
    "        self.r = np.random.randint(2, self.p - 1)\n",
    "        c = pow(self.g, self.r) % self.p\n",
    "\n",
    "        #self.r = randint(2, self.p - 1)  # 2 <= N <= p-1\n",
    "        #print_debug(\"{}:\\tI have chosen r = {}\".format(self.name, self.r), LOG_INFO)\n",
    "        #c = pow(self.g, self.r, self.p)\n",
    "\n",
    "        # --------------------------------\n",
    "\n",
    "        print_debug(\"{}:\\tI amb sending c = {}\".format(self.name, c), LOG_INFO)\n",
    "        return c\n",
    "\n",
    "    def compute_h(self, b):\n",
    "        \"\"\"\n",
    "        Computes h for the given b.\n",
    "        :param b: integer with a boolean value (0 or 1)\n",
    "        :return: integer, h\n",
    "        \"\"\"\n",
    "\n",
    "        h = None\n",
    "\n",
    "        # --- IMPLEMENTATION GOES HERE ---\n",
    "        h = (self.r + b * self.x) % (self.p - 1)\n",
    "        # --------------------------------\n",
    "\n",
    "        print_debug(\"{}:\\tI amb sending h = {}\".format(self.name, h), LOG_INFO)\n",
    "        return h"
   ]
  },
  {
   "cell_type": "markdown",
   "metadata": {
    "colab_type": "text",
    "id": "5EkysTRvtRye"
   },
   "source": [
    "Fijaos que el probador tiene como variables de instancia los parámetros del sistema `p` y `g`, el valor del cual quiere probar el logaritmo discreto `y` y el valor secreto `x` que corresponde justamente al logaritmo discreto de `y` en base `g` módulo `p`. También se tiene que poder guardar el valor `r` que generará en el primer paso del protocolo y que después utilizará en el tercer paso. A la hora de inicializar estos parámetros (en el constructor de la clase), se comprueba que sean válidos a través de sentencias `assert`. En la definición del probador también hay definidas dos acciones por medio de dos métodos. El primero calcula `c`, el valor necesario para el primer paso del protocolo. El segundo método calcula el valor `h`, necesario en el tercer paso del protocolo."
   ]
  },
  {
   "cell_type": "markdown",
   "metadata": {
    "colab_type": "text",
    "id": "_JwCd-r3tRyf"
   },
   "source": [
    "Por otro lado, de forma análoga definiremos una clase para el **verificador**:"
   ]
  },
  {
   "cell_type": "code",
   "execution_count": 30,
   "metadata": {
    "colab": {},
    "colab_type": "code",
    "id": "lDt6cahStRyg"
   },
   "outputs": [],
   "source": [
    "class UocZkpVerifier:\n",
    "    \"\"\"\n",
    "    Class representing a verifier. The verifier wants to known whether\n",
    "        the prover has a value x such that g^x = y mod p.\n",
    "    \"\"\"\n",
    "\n",
    "    def __init__(self, p, g, y, name=\"Verifier\"):\n",
    "        \"\"\"\n",
    "        Initializes the verifier. Checks the validity of the arguments,\n",
    "            and sets the public parameters p, g, y.\n",
    "\n",
    "        This method has to initialize instance variables p, g and y (c\n",
    "            and b will remain unset until choose_b method is called).\n",
    "\n",
    "        :param p: integer, modulus\n",
    "        :param g: integer, base\n",
    "        :param y: integer, g^x mod p\n",
    "        :param name: optional string, name of the verifier (to be used\n",
    "            when printing data to the console)\n",
    "        \"\"\"\n",
    "        self.p = None\n",
    "        self.g = None\n",
    "        self.y = None\n",
    "        self.c = None\n",
    "        self.b = None\n",
    "        self.name = name\n",
    "\n",
    "        try:\n",
    "            assert (isprime(p))\n",
    "            assert (y < p)\n",
    "            assert (is_primitive_root(g, p))\n",
    "\n",
    "        except:\n",
    "            raise InvalidParams\n",
    "\n",
    "        self.p = p\n",
    "        self.g = g\n",
    "        self.y = y\n",
    "\n",
    "        print_debug(\"{}:\\t\\tInitialized with p = {}, g = {} and y = {}\".format(\n",
    "            self.name, self.p, self.g, self.y), LOG_INFO)\n",
    "\n",
    "    def choose_b(self, c):\n",
    "        \"\"\"\n",
    "        Selects a random boolean b value.\n",
    "\n",
    "        This method has to initialize instance variables b and c.\n",
    "        :param c: integer, value c (received from the prover)\n",
    "        :return: integer, b with the chosen boolean\n",
    "        \"\"\"\n",
    "\n",
    "        # --- IMPLEMENTATION GOES HERE ---\n",
    "        self.b = np.random.randint(0, 1)\n",
    "        self.c = c\n",
    "        # --------------------------------\n",
    "\n",
    "        print_debug(\"{}:\\t\\tI have chosen b = {}\".format(self.name, self.b),\n",
    "                    LOG_INFO)\n",
    "        return self.b\n",
    "\n",
    "    def verify(self, h):\n",
    "        \"\"\"\n",
    "        Verifies if the prover has correctly solved the challenge.\n",
    "\n",
    "        :param h: integer, value h (received from the proves)\n",
    "        :return: boolean, result of the proof\n",
    "        \"\"\"\n",
    "\n",
    "        result = None\n",
    "\n",
    "        # --- IMPLEMENTATION GOES HERE ---\n",
    "        result = (self.c * pow(self.y, self.b)) % self.p == pow(self.g, h) % self.p\n",
    "        # --------------------------------\n",
    "\n",
    "        print_debug(\"{}:\\t\\tThe result of the verification is {}\".format(\n",
    "            self.name, result), LOG_INFO)\n",
    "        return result"
   ]
  },
  {
   "cell_type": "markdown",
   "metadata": {
    "colab_type": "text",
    "id": "a-v-VlDUtRyj"
   },
   "source": [
    "Igual que el probador, el verificador también almacena las variables correspondientes a los parámetros del sistema `p` y `g` y el valor `y` del que el probador conoce el logaritmo discreto. Evidentemente, el verificador no conoce el valor `x`. Por otro lado, en la definición del verificador también hay definidas dos acciones por medio de dos métodos. El primero elige el bit `b` necesario en el segundo paso del protocolo. El segundo método verifica la igualdad del paso 4 a partir de los valores que se han ido intercambiando en el protocolo."
   ]
  },
  {
   "cell_type": "markdown",
   "metadata": {
    "colab_type": "text",
    "id": "FQtX8H56tRyj"
   },
   "source": [
    "Esta primera actividad consistirá, pues, en implementar los métodos de cálculo de los valores $c$ y $h$ de la clase del probador, y los métodos de selección del bit $b$ y verificación de la prueba, de la clase del verificador."
   ]
  },
  {
   "cell_type": "markdown",
   "metadata": {
    "colab_type": "text",
    "id": "zBqj_RZvtRyj"
   },
   "source": [
    "**Ejercicio 1.1.** Función que implementa el método `compute_c` de la clase del probador.\n",
    "\n",
    "Este método implementará el paso 1 del protocolo. El método, sin recibir ningún parámetro, generará un valor aleatorio y devolverá el correspondiente valor `c`.\n",
    "* El método no recibirá ningún parámetro.\n",
    "* El método devolverá el valor `c` calculado en el paso 1 del protocolo (y actualizará las variables de instancia pertinentes)."
   ]
  },
  {
   "cell_type": "markdown",
   "metadata": {
    "colab_type": "text",
    "id": "Jrs2zPrHtRyk"
   },
   "source": [
    "**Ejercicio 1.2.** Función que implementa el método `compute_h` de la clase del probador.\n",
    "\n",
    "Este método implementará el paso 3 del protocolo. El método recibirá el bit que ha elegido el verificador y  devolverá el correspondiente valor `h`.\n",
    "* La variable `b` recibirá el bit elegido.\n",
    "* La función devolverá el valor `h` del paso 3 del protocolo."
   ]
  },
  {
   "cell_type": "markdown",
   "metadata": {
    "colab_type": "text",
    "id": "ucxv6sG5tRyk"
   },
   "source": [
    "**Ejercicio 1.3.** Función que implementa el método `choose_b` de la clase del verificador.\n",
    "\n",
    "Este método implementará el paso 2 del protocolo. El método, sin recibir ningún parámetro, devolverá un bit aleatorio.\n",
    "* El método no recibirá ningún parámetro.\n",
    "* El método devolverá el bit aleatorio `b` (y actualizará las variables de instancia pertinentes)."
   ]
  },
  {
   "cell_type": "markdown",
   "metadata": {
    "colab_type": "text",
    "id": "r4gL-g2PtRyk"
   },
   "source": [
    "**Ejercicio 1.4.** Función que implementa el método `verify` de la clase del probador.\n",
    "\n",
    "Este método implementará el paso 4 del protocolo. El método recibirá el valor `h` y devolverá cierto o falso en función de si la validación ha sido correcta o no.\n",
    "* El parámetro `h` contendrá el valor proporcionado por el probador.\n",
    "* El método devolverá `True` o `False`, en función de si la verificación es o no correcta."
   ]
  },
  {
   "cell_type": "markdown",
   "metadata": {
    "colab_type": "text",
    "id": "ZStk1F3ftRyl"
   },
   "source": [
    "**Ejercicio 1.5.** Función que implementa el protocolo.\n",
    "\n",
    "Esta función implementará el protocolo entero entre probador y verificador. La función `challenge` recibirá como variables de entrada una instancia de la clase probador, una instancia de la clase verificador y el número de iteraciones que tiene que ejecutar el protocolo. La función ejecutará el protocolo de la prueba de conocimiento nulo tantas veces como se haya especificado y devolverá un booleano indicando si la ejecución ha tenido éxito y un float con la probabilidad que tenía un probador deshonesto de superar la prueba con éxito.\n",
    "* El parámetro `prover` contendrá una instancia de la clase del probador.\n",
    "* El parámetro `verifier` contendrá una instancia de la clase del verificador.\n",
    "* El parámetro `num_times` contendrá el número de iteraciones que ejecutará el protocolo.\n",
    "* La función devolverá una tupla `(A, B)` donde `A` será `True` o `False` en función de si el probador ha superado la prueba, y `B` la probabilidad de que un probador que desconozca el secreto pueda engañar al verificador.\n",
    "\n",
    "Usad la función que acabáis de definir para ejecutar el protocolo entre un probador y un verificador usando 1 y 10 iteraciones, y:\n",
    "* Comprobad que el probador es capaz de superar el reto.\n",
    "* Mostrad la probabilidad teórica de engaño que tendría un probador que desconozca el secreto para los dos casos."
   ]
  },
  {
   "cell_type": "code",
   "execution_count": 28,
   "metadata": {
    "colab": {},
    "colab_type": "code",
    "id": "kRxiuPc5tRyl"
   },
   "outputs": [
    {
     "name": "stdout",
     "output_type": "stream",
     "text": [
      "(True, 0.0009765625)\n"
     ]
    }
   ],
   "source": [
    "def challenge(prover, verifier, num_times=1):\n",
    "    \"\"\"\n",
    "    Executes the full zero knowledge protocol between a prover and\n",
    "        a verifier num_times times. The execution of the protocol\n",
    "        is successful if the prover is able to convice the verifier\n",
    "        in all the executions.\n",
    "\n",
    "    :param prover: UocZkpProver object\n",
    "    :param verifier: UocZkpVerifier object\n",
    "    :param num_times: integer, number of times to execute the ZKP\n",
    "    :return: 2-element tuple, a boolean indicating whether the challenge\n",
    "        was successful and a float\n",
    "    \"\"\"\n",
    "\n",
    "    success, prob = None, None\n",
    "\n",
    "    # --- IMPLEMENTATION GOES HERE ---  \n",
    "    prob = 1\n",
    "    for i in range(num_times):\n",
    "        c = prover.compute_c()\n",
    "        b = verifier.choose_b(c)\n",
    "        h = prover.compute_h(b)\n",
    "        success = verifier.verify(h)\n",
    "        try:\n",
    "            assert success\n",
    "        except:\n",
    "            raise InvalidParams\n",
    "        prob = prob / 2.0\n",
    "    # --------------------------------\n",
    "\n",
    "    return success, prob\n",
    "\n",
    "prover = UocZkpProver(89, 3, 14, 9)\n",
    "verifier = UocZkpVerifier(89, 3, 14)\n",
    "\n",
    "print (challenge (prover, verifier, 10))"
   ]
  },
  {
   "cell_type": "markdown",
   "metadata": {
    "colab_type": "text",
    "id": "HU5yNsFNtRyn"
   },
   "source": [
    "# 4. El protocolo de PIR de Kushilevitz y Ostrovsky\n",
    "\n",
    "En este segundo ejercicio implementaremos el protocolo de PIR de **Kushilevitz y Ostrovsky** que está descrito en el módulo de *Protocolos criptográficos* de los materiales de la asignatura.\n",
    "\n",
    "Así pues, nuestro protocolo estará formado por dos entidades: una base de datos, que mantendrá una matriz de bits (de tamaño $s \\times t$), y un usuario de la base de datos, que querrá consultar uno de los bits de la matriz (el que se encuentra en la posición $(ip, jp)$).\n",
    "\n",
    "Para que nuestro protocolo pueda ser implementado, usaremos programación orientada a objetos y definiremos dos clases, una para el usuario y otra para la base de datos.\n",
    "\n",
    "La clase para el **usuario** la definiremos de la manera siguiente:"
   ]
  },
  {
   "cell_type": "code",
   "execution_count": null,
   "metadata": {
    "colab": {},
    "colab_type": "code",
    "id": "MhLhkKUxtRyn"
   },
   "outputs": [],
   "source": [
    "class User:\n",
    "    \"\"\"\n",
    "    Class representing a user that wants to query a database (which is a\n",
    "        matrix m of s x t bits). The user knows the size of the matrix,\n",
    "        and wants to query for the content a specific position m_{ij}.\n",
    "    \"\"\"\n",
    "\n",
    "    def __init__(self, n_bits=8, s=3, t=5):\n",
    "        \"\"\"\n",
    "        Initializes the user. Creates a Goldwasser-Micali public key, and\n",
    "            stores it in instance variables.\n",
    "\n",
    "        This method has to initialize instance variables p, q, n, a, s and\n",
    "            t (ip and ij will remain unset until the prepare_query method\n",
    "            is called).\n",
    "\n",
    "        :param n_bits: integer, number of bits of the public key modulus.\n",
    "        :param s: integer, number of rows of the database matrix.\n",
    "        :param t: integer, number of columns of the database matrix.\n",
    "        \"\"\"\n",
    "\n",
    "        self.p, self.q, self.n, self.a = None, None, None, None\n",
    "        self.s, self.t = None, None\n",
    "        self.ip, self.jp = None, None\n",
    "\n",
    "        # --- IMPLEMENTATION GOES HERE ---\n",
    "\n",
    "        # --------------------------------\n",
    "\n",
    "        print_debug(\"[U]  PK = ({}, {}), sk = ({}, {})\".format(\n",
    "            self.n, self.a, self.p, self.q), LOG_INFO)\n",
    "\n",
    "    def prepare_query(self, ip, jp):\n",
    "        \"\"\"\n",
    "        Computes the values to query the database for position (ip, jp)\n",
    "            from the database matrix. Checks that the received indexes\n",
    "            are valid, and computes the values to send to the database.\n",
    "\n",
    "        This method has to initialize instance variables ip and jp.\n",
    "\n",
    "        :param ip: integer, row of the database matrix to query.\n",
    "        :param jp: integer, column of the database matrix to query.\n",
    "        :return: two-elements tuple, the modulus n (an integer) and\n",
    "            a list of the x_i values (integers).\n",
    "        \"\"\"\n",
    "\n",
    "        x = None\n",
    "\n",
    "        # --- IMPLEMENTATION GOES HERE ---\n",
    "\n",
    "        # --------------------------------\n",
    "\n",
    "        print_debug(\"[U]  Query for index ({}, {})\".format(ip, jp), LOG_INFO)\n",
    "        print_debug(\"[U]  n = {}, x = {}\".format(self.n, x), LOG_INFO)\n",
    "        return self.n, x\n",
    "\n",
    "    def recover_bit(self, z):\n",
    "        \"\"\"\n",
    "        Recovers the bit in position (ip, jp) of the database matrix from\n",
    "            the values z sent by the database.\n",
    "\n",
    "        :param z: list of integers, as received from the database.\n",
    "        :return: integer, the recovered bit.\n",
    "        \"\"\"\n",
    "\n",
    "        recovered_bit = None\n",
    "\n",
    "        # --- IMPLEMENTATION GOES HERE ---\n",
    "\n",
    "        # --------------------------------\n",
    "\n",
    "        print_debug(\"[U]  Recovered bit: {}\".format(recovered_bit), LOG_INFO)\n",
    "        return recovered_bit"
   ]
  },
  {
   "cell_type": "markdown",
   "metadata": {
    "colab_type": "text",
    "id": "_RsS57IUtRyp"
   },
   "source": [
    "Fijaos que el usuario tiene como variables de instancia la clave pública del criptosistema de Goldwasser-Micali que usa para hacer la consulta (`p`, `q`, `n` y `a`), el tamaño de la matriz de la base de datos a consultar (`s` y `t`) y los índices de la posición que quiere consultar (`ip`, `jp`). La clave pública del usuario se genera aleatoriamente en el constructor de la clase, considerando que el tamaño del módulo tiene que ser de `n_bits` bits. Los valores de los índices a consultar se establecerán cuando se llame al método `prepare_query`, momento en el que el usuario preparará la consulta que se tiene que enviar a la base de datos. Finalmente, dada la respuesta de la base de datos, el método `recover_bit` implementará la recuperación del valor consultado."
   ]
  },
  {
   "cell_type": "markdown",
   "metadata": {
    "colab_type": "text",
    "id": "Qq6C_eiytRyp"
   },
   "source": [
    "Por otro lado, definiremos una clase para la **base de datos**:"
   ]
  },
  {
   "cell_type": "code",
   "execution_count": null,
   "metadata": {
    "colab": {},
    "colab_type": "code",
    "id": "0KCYkF3RtRyq"
   },
   "outputs": [],
   "source": [
    "class Database:\n",
    "    \"\"\"\n",
    "    Class representing the database that is queried with the PIR protocol.\n",
    "        The database stores a matrix m of s x t bits.\n",
    "    \"\"\"\n",
    "\n",
    "    def __init__(self, s=3, t=5):\n",
    "        \"\"\"\n",
    "        Initializes the database by generating a random matrix of bits of\n",
    "            size sxt.\n",
    "\n",
    "        This method has to initialize instance variables s, t and m.\n",
    "\n",
    "        :param s: integer, number of rows of the database matrix.\n",
    "        :param t: integer, number of columns of the database matrix.\n",
    "        \"\"\"\n",
    "\n",
    "        self.s, self.t = None, None\n",
    "        self.m = None\n",
    "\n",
    "        # --- IMPLEMENTATION GOES HERE ---\n",
    "\n",
    "        # --------------------------------\n",
    "\n",
    "        print_debug(\"[DB] The database is:\\n{}\".format(self.m), LOG_INFO)\n",
    "\n",
    "    def query(self, n, x):\n",
    "        \"\"\"\n",
    "        Processes a query from a user.\n",
    "\n",
    "        :param n: integer, the modulus n from the user's public key.\n",
    "        :param x: list of integers, the x_j values as received from the user.\n",
    "        :return: list of integers, the z_i values that constitute the\n",
    "            database response.\n",
    "        \"\"\"\n",
    "\n",
    "        z = None\n",
    "\n",
    "        # --- IMPLEMENTATION GOES HERE ---\n",
    "\n",
    "        # --------------------------------\n",
    "\n",
    "        print_debug(\"[DB] z = {}\".format(z), LOG_INFO)\n",
    "        return z"
   ]
  },
  {
   "cell_type": "markdown",
   "metadata": {
    "colab_type": "text",
    "id": "EBRHkVOQtRyr"
   },
   "source": [
    "La base de datos tiene como variables de instancia el tamaño de la matriz de la base de datos a consultar (`s` y `t`), así como la matriz en sí (`m`). En el constructor de la clase, la matriz de bits se inicializa aleatoriamente para simular los datos que tendría almacenados. El método `query` implementa el cálculo de la respuesta que hace la base de datos a una petición del usuario, considerando la matriz de bits almacenada."
   ]
  },
  {
   "cell_type": "markdown",
   "metadata": {
    "colab_type": "text",
    "id": "8labikmTtRys"
   },
   "source": [
    "Esta segunda actividad consistirá, pues, en implementar los métodos de inicialización de las dos clases, así como los métodos `prepare_query` y `recover_bit` de la clase que representa un usuario, y el método `query` de la clase de la base de datos."
   ]
  },
  {
   "cell_type": "markdown",
   "metadata": {
    "colab_type": "text",
    "id": "778CGM2TtRys"
   },
   "source": [
    "**Ejercicio 2.1.** Función que implementa el constructor (`__init__`) de la clase del usuario.\n",
    "\n",
    "Este método implementará el paso 1 del protocolo. El método recibirá el tamaño del módulo de la clave pública a generar y el tamaño de la matriz de la base de datos y generará una clave pública aleatoria del criptosistema de Goldwasser-Micali del tamaño especificado. El método no devolverá ningún valor.\n",
    "* El parámetro `n_bits` contendrá el tamaño del módulo de la clave pública en bits. Por defecto, este valor será 8.\n",
    "* El parámetro `s` contendrá el número de filas de la matriz de la base de datos. Por defecto, este valor será 3.\n",
    "* El parámetro `t` contendrá el número de columnas de la matriz de la base de datos. Por defecto, este valor será 5.\n",
    "* El método no devolverá ningún valor, pero sí actualizará las variables de instancia pertinentes."
   ]
  },
  {
   "cell_type": "markdown",
   "metadata": {
    "colab_type": "text",
    "id": "gB1ZYkyutRys"
   },
   "source": [
    "**Ejercicio 2.2.** Función que implementa el constructor (`__init__`) de la clase de la base de datos.\n",
    "\n",
    "Este método implementará la inicialización de la base de datos. El constructor recibe el tamaño de la matriz de bits a almacenar y genera una matriz de bits aleatorios del tamaño especificado.\n",
    "* El parámetro `s` contendrá el número de filas de la matriz de la base de datos. Por defecto, este valor será 3.\n",
    "* El parámetro `t` contendrá el número de columnas de la matriz de la base de datos. Por defecto, este valor será 5.\n",
    "* El método no devolverá ningún valor, pero sí actualizará las variables de instancia pertinentes."
   ]
  },
  {
   "cell_type": "markdown",
   "metadata": {
    "colab_type": "text",
    "id": "hNfQ5tsjtRyt"
   },
   "source": [
    "**Ejercicio 2.3.** Función que implementa el método `prepare_query` de la clase del usuario.\n",
    "\n",
    "Este método implementará el paso 2 del protocolo. El método recibirá los índices del bit de la base de datos a consultar y calculará la lista de valores $x_j$ que codifican la consulta que hay que realizar, seleccionando aleatoriamente los valores $r_j$. El método devolverá los valores a enviar a la base de datos: el módulo de la clave pública del usuario, $n$, y la lista de valores $x_j$ calculados.\n",
    "* El parámetro `ip` contendrá la fila de la matriz donde está el bit que hay que consultar.\n",
    "* El parámetro `jp` contendrá la columna de la matriz donde está el bit que hay que consultar.\n",
    "* La función devolverá una tupla con dos valores: el módulo de la clave pública, `n` (un entero); y la lista de valores enteros $x_j$ para $j \\in [1, t]$."
   ]
  },
  {
   "cell_type": "markdown",
   "metadata": {
    "colab_type": "text",
    "id": "2fz8smGFtRyt"
   },
   "source": [
    "**Ejercicio 2.4.** Función que implementa el método `query` de la clase de la base de datos.\n",
    "\n",
    "Este método implementará el paso 3 del protocolo. El método recibirá la consulta del usuario, tal como se devuelve en el método `prepare_query` de la clase del usuario, y generará la lista de valores $z_y$ que codifican la respuesta de la base de datos, considerando la base de datos almacenada.\n",
    "\n",
    "* El parámetro `n` contendrá el módulo de la clave pública del usuario.\n",
    "* El parámetro `x` contendrá una lista de valores enteros $x_j$ para $j \\in [1, t]$.\n",
    "* La función devolverá la lista de valores enteros $z_y$ para $y \\in [1, s]$."
   ]
  },
  {
   "cell_type": "markdown",
   "metadata": {
    "colab_type": "text",
    "id": "FFNWIV97tRyu"
   },
   "source": [
    "**Ejercicio 2.5.** Función que implementa el método `recover_bit` de la clase del usuario.\n",
    "\n",
    "Este método implementará el paso 4 del protocolo. El método recibirá la respuesta de la base de datos, tal como se devuelve en el método `query` de la clase de la base de datos, y recuperará el bit consultado de la matriz de la base de datos, que corresponde a la posición $(ip, jp)$. \n",
    "\n",
    "* El parámetro `z` contendrá una lista de valores enteros $z_y$ para $y \\in [1, s]$.\n",
    "* La función devolverá un entero con el bit recuperado de la base de datos."
   ]
  },
  {
   "cell_type": "markdown",
   "metadata": {
    "colab_type": "text",
    "id": "0q3x5UlMtRyu"
   },
   "source": [
    "**Ejercicio 2.6.** Implementación del protocolo.\n",
    "\n",
    "Implementad una ejecución del protocolo entero entre el usuario y la base de datos. Cread una instancia de usuario y una de la base de datos e implementad la interacción entre ambas entidades para que el usuario recupere un bit de la base de datos."
   ]
  }
 ],
 "metadata": {
  "colab": {
   "name": "Protocols_criptogràfics_rev_cris.ipynb",
   "provenance": []
  },
  "kernelspec": {
   "display_name": "Python 3",
   "language": "python",
   "name": "python3"
  },
  "language_info": {
   "codemirror_mode": {
    "name": "ipython",
    "version": 3
   },
   "file_extension": ".py",
   "mimetype": "text/x-python",
   "name": "python",
   "nbconvert_exporter": "python",
   "pygments_lexer": "ipython3",
   "version": "3.10.8"
  }
 },
 "nbformat": 4,
 "nbformat_minor": 1
}
