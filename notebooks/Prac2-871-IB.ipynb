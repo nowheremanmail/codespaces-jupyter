{
 "cells": [
  {
   "cell_type": "markdown",
   "metadata": {},
   "source": [
    "<div style=\"width: 100%; clear: both;\">\n",
    "    <div style=\"float: left; width: 50%;\">\n",
    "       <img src=\"http://www.uoc.edu/portal/_resources/common/imatges/marca_UOC/UOC_Masterbrand.jpg\", align=\"left\">\n",
    "    </div>\n",
    "</div>\n",
    "\n",
    "<div style=\"float: right; width: 50%;\">\n",
    "    <p style=\"margin: 0; padding-top: 22px; text-align:right;\">M1.871 · Privacidad</p>\n",
    "    <p style=\"margin: 0; text-align:right;\">Máster Universitario en Ciberseguridad y Privacidad</p>\n",
    "    <p style=\"margin: 0; text-align:right; padding-button: 100px;\">Estudios de Informática, Multimedia y Telecomunicaciones</p>\n",
    "</div>\n",
    "\n",
    "</div>\n",
    "<div style=\"width: 100%; clear: both;\">\n",
    "<div style=\"width:100%;\">&nbsp;</div>"
   ]
  },
  {
   "cell_type": "markdown",
   "metadata": {
    "pycharm": {
     "name": "#%% md\n"
    }
   },
   "source": [
    "# Practica 2\n",
    "\n",
    "---\n",
    "Para resolver esta práctica, tenéis que poner las soluciones en el mismo notebook, en las celdas de código que están en blanco habilitadas para ello. Después de cada celda de código podéis poner una celda markdown en donde podéis justificar vuestra respuesta. También lo podéis hacer añadiendo comentarios en el código. No es obligatorio, pero sí recomendable que justifiquéis las respuestas que dais, ya que eso facilita la corrección en caso de una respuesta incorrecta (pudiendo valorar el planteamiento), y puede ayudar a descartar posibles sospechas sobre copias.\n",
    "\n",
    "En muchos casos, cuando se pide implementar una función, se proporciona el nombre de la función y los parámetros que esta utiliza. Es necesario que respetéis el nombre de la función y los parámetros en la medida de lo posible. Sin embargo, podéis implementar el código de la función con total libertad. Dicha indicación sobre la definición de la función aparece comentada para evitar errores de compilación."
   ]
  },
  {
   "cell_type": "markdown",
   "metadata": {},
   "source": [
    "# Ejercicios\n",
    "\n",
    "## _El problema del millonario socialista_\n",
    "En este primer ejercicio tendréis que implementar el protocolo criptográfico del millonario socialista. El protocolo estará formado por dos usuarios, Alice y Bob, que quieren comprobar si tienen la misma cantidad de dinero sin necesidad de revelar cuánto dinero tienen. Para la implementación del protocolo, os recomendamos que utilicéis la librería PyCryptodome (https://www.pycryptodome.org). En concreto, os pueden ayudar las funciones del módulo Crypto.Util.number (https://www.pycryptodome.org/src/util/util#module-Crypto.Util.number)\n",
    "\n",
    "**Apartado A (4 puntos)** Implementad y probad los métodos `__init__`, `steps_1_2`, `steps_5_6_7_8`, `steps_11_12`, `steps_15_16` de la clase `SocialistMillionaire`, cuyo esqueleto encontraréis a continuación:\n",
    "\n",
    "- `__init__` (0.25 puntos): Es el constructor de la clase. Recibe como parámetros el número de millones que tiene el millonario (x), el número primo (p) y un número (h) $\\in$ $Z_p$, tal que h $\\neq$ 1. Si el usuario es Alice (user_a = $True$) o Bob (user_a = $False$). El constructor se encarga de inicializar las variables que recibe.\n",
    "\n",
    "- `steps_1_2` (0.50 puntos): Este método implementa los pasos 1 y 2 del protocolo del millonario socialista y retorna una tupla de dos elementos con los valores $[h^v, h^w]$.\n",
    "\n",
    "- `steps_5_6_7_8` (1 punto): Este método implementa los pasos del 5 al 8 del protocolo. Recibe como entrada una tupla $[h^v, h^w]$ y retorna una tupla de dos elementos con los valores $[P_{own}, Q_{own}]$.\n",
    "\n",
    "- `steps_11_12` (1.25 puntos): Este método implementa los pasos 11 y 12 del protocolo. Recibe como entrada una tupla de dos valores $[P_{counter}, Q_{counter}]$ (recibidos de la otra parte). Retorna el producto de los valores Q (invirtiendo uno primero).\n",
    "\n",
    "- `steps_15_16` (1 punto): Este método implementa los pasos 15 y 16 del protocolo. Recibe como entrada el producto de los valores Q de la otra parte (qsprod) y retorna un booleano indicando si los dos usuarios son igual de ricos ($True$) o tienen fortunas distintas ($False$)."
   ]
  },
  {
   "cell_type": "code",
   "execution_count": null,
   "metadata": {
    "pycharm": {
     "name": "#%%\n"
    }
   },
   "outputs": [],
   "source": [
    "class SocialistMillionaire:\n",
    "    \"\"\"\n",
    "    This class implements the socialist millionaire problem.\n",
    "    \"\"\"\n",
    "\n",
    "    def __init__(self, x, p, h, user_a = True):\n",
    "        \"\"\"\n",
    "        Initializes class attributes.\n",
    "        * Parameter x: fortune of this millionaire\n",
    "        * Parameter p: prime number\n",
    "        * Parameter h: value in Zp\n",
    "        * Parameter user_a: True if user is Alice, False if it's Bob\n",
    "        \"\"\"\n",
    "        # --- IMPLEMENTATION GOES HERE ---\n",
    "        \n",
    "        # --------------------------------\n",
    "\n",
    "\n",
    "    def steps_1_2(self):\n",
    "        \"\"\"\n",
    "            Implements steps 1 and 2 of the socialist millionaire protocol\n",
    "            * Returns: two element list with h values ([h^v, h^w])\n",
    "        \"\"\"\n",
    "        result = []\n",
    "        # --- IMPLEMENTATION GOES HERE ---\n",
    "\n",
    "        # --------------------------------        \n",
    "        return result\n",
    "\n",
    "    def steps_5_6_7_8(self, hvalues):\n",
    "        \"\"\"\n",
    "        # Implements steps 5-8 of the socialist millionaire protocol\n",
    "        # * Parameter hvalues: list with two elements, [h^v, h^w]\n",
    "        # * Returns: two element list with [P_own, Q_own]\n",
    "        \"\"\"\n",
    "        result = []\n",
    "        # --- IMPLEMENTATION GOES HERE ---\n",
    "\n",
    "        # --------------------------------\n",
    "        return result\n",
    "\n",
    "    def steps_11_12(self, pqvalues):\n",
    "        \"\"\"\n",
    "        # Implements steps 11-12 of the socialist millionaire protocol\n",
    "        # * Parameter pqvalues: list with two values, Pcounter and Qcounter (received from the other party)\n",
    "        # * Returns: product of Q values (inverting one of them first)\n",
    "        \"\"\"\n",
    "        result = None\n",
    "        # --- IMPLEMENTATION GOES HERE ---\n",
    "        \n",
    "        # --------------------------------\n",
    "        return result\n",
    "        \n",
    "    def steps_15_16(self, qsprod):\n",
    "        \"\"\"\n",
    "        # Implements steps 15-16 of the socialist millionaire protocol\n",
    "        # * Parameter qsprod: the product of Q values received from the other party\n",
    "        # * Returns: boolean, True if both users are equally rich\n",
    "        \"\"\"\n",
    "        result = None\n",
    "        # --- IMPLEMENTATION GOES HERE ---\n",
    "        \n",
    "        # --------------------------------\n",
    "        return result"
   ]
  },
  {
   "cell_type": "markdown",
   "metadata": {},
   "source": [
    "**Apartado B (1 punto)** Comprobad que la clase que habéis programado funciona correctamente, ejecutandola con distintos valores. Explicad posibles casos de uso de este protocolo en escenarios del mundo real y comentad posibles limitaciones del protocolo."
   ]
  },
  {
   "cell_type": "code",
   "execution_count": null,
   "metadata": {},
   "outputs": [],
   "source": [
    "#### IMPLEMENTATION GOES HERE ####\n"
   ]
  },
  {
   "cell_type": "markdown",
   "metadata": {},
   "source": [
    "## _Crowds_\n",
    "En el segundo ejercicio, tendréis que responder a algunas preguntas sobre crowds después de ejecutar una serie de simulaciones mediante un código de Github que podéis encontrar aquí: https://github.com/TheoStefou/crowds-protocol-simulation y que os permitirá probar diferentes configuraciones.\n",
    "\n",
    "Podéis ejecutar la simulación con python3 de la siguiente manera:"
   ]
  },
  {
   "cell_type": "code",
   "execution_count": null,
   "metadata": {
    "pycharm": {
     "name": "#%%\n"
    }
   },
   "outputs": [],
   "source": [
    "$ python3 simulate.py <phi> <graph-file> <corrupted-file> <users-file> <broken-paths> <fix-strategy>"
   ]
  },
  {
   "cell_type": "markdown",
   "metadata": {
    "pycharm": {
     "name": "#%% md\n"
    }
   },
   "source": [
    "La simulación recibe como entrada los siguientes argumentos:\n",
    "\n",
    "- phi: Probabilidad de reenvío.\n",
    "\n",
    "- graph-file: La matriz de adyacencia de los usuarios. Se espera que sea una matriz n x n. A partir de este archivo se determina el número de usuarios. Sus identificadores están en orden ascendente. Por ejemplo, la matriz que se muestra a continuación:\n",
    "\n",
    "$$\\begin{bmatrix} 0 & 1 & 0 \\\\ 1 & 0 & 1 \\\\ 0 & 1 & 0 \\end{bmatrix}$$\n",
    "\n",
    "          Corresponde a la siguiente configuración:\n",
    "          user[id=0] conectado con (user[id=1])\n",
    "          user[id=1] conectado con (user[id=0], user[id=2])\n",
    "          user[id=2] conectado con (user[id=1])\n",
    "\n",
    "- corrupted-file: Los identificadores de los usuarios maliciosos. Se espera un identificador por línea (0, num_users-1].\n",
    "\n",
    "- users-file: Un identificador por línea para los usuarios que intentarán enviar un mensaje. Todos los usuarios pueden enviar mensajes excepto los que aparecen en el archivo \"corrupted-file\".\n",
    "\n",
    "- broken-paths: El número de caminos que los usuarios maliciosos pueden romper por cada mensaje enviado.\n",
    "\n",
    "- fix-strategy: Puede ser \"initiator\" o \"last-honest\". Si los caminos rotos es 0, esto nunca se aplica. Sin embargo, debe proporcionarse. Esto determina el método de recuperación aplicado cuando un adversario rompe un camino. Si se define como \"initiator\", el remitente debe reconstruir el camino desde el principio. Si se define como \"last-honest\", el usuario anterior antes del usuario corrupto que lo acaba de detectar debe volver a intentar reenviarlo.\n",
    "\n",
    "Generad vuestra propia red de Crowds (con al menos 10 jondos) y fijad la probabilidad de retransmisión p al valor que queráis. Cuando generéis la red, podéis cambiar el número de conexiones, el diámetro de la red o incluso crear ciertas configuraciones en las que uno o varios usuarios solo puedan enviar mensajes (i) a usuarios maliciosos (ii) o a ellos mismos. Suponed también que todos los usuarios legítimos envían varios mensajes cada uno y que el adversario controla algunos de los jondos. Opcionalmente, podeis añadir algunos \"prints\" al código para entender mejor qué está pasando y el porqué (por ejemplo, aquí: https://github.com/TheoStefou/crowds-protocol-simulation/blob/539f2bfe38781f7a71465f1b27aade18032fbb89/crowds.py#L71)\n",
    "\n",
    "---\n",
    "### Preguntas (5 puntos)\n",
    "\n",
    "Q1 (1 punto). Ejecutad el simulador con las siguientes probabilidades de reenvío: 0'05, 0'5, 0'95. Muesta la matriz de adyaciencia utilizada y comenta los resultados obtenidos."
   ]
  },
  {
   "cell_type": "markdown",
   "metadata": {},
   "source": [
    "<p style=\"color:blue\">Respuesta:</p>"
   ]
  },
  {
   "cell_type": "markdown",
   "metadata": {},
   "source": [
    "Q2 (1 punto). Ejecutad el simulador con diferentes configuraciones de red (al menos 5) y comentad los resultados obtenidos."
   ]
  },
  {
   "cell_type": "markdown",
   "metadata": {},
   "source": [
    "<p style=\"color:blue\">Respuesta:</p>"
   ]
  },
  {
   "cell_type": "markdown",
   "metadata": {},
   "source": [
    "Q3 (1 punto). Ejecutad el simulador con diferentes porcentajes de nodos maliciosos: 10%, 40% y 90%. Comentad los resultados obtenidos."
   ]
  },
  {
   "cell_type": "markdown",
   "metadata": {},
   "source": [
    "<p style=\"color:blue\">Respuesta:</p>"
   ]
  },
  {
   "cell_type": "markdown",
   "metadata": {},
   "source": [
    "Q4 (1 punto). Ejecutad el simulador con un 15%, 50% y 90% de caminos rotos y comentad los resultados obtenidos."
   ]
  },
  {
   "cell_type": "markdown",
   "metadata": {},
   "source": [
    "<p style=\"color:blue\">Respuesta:</p>"
   ]
  },
  {
   "cell_type": "markdown",
   "metadata": {},
   "source": [
    "Q5 (1 punto). Considera una red de Crowds donde la mitad de los jondos se encuentran dentro de una red corporativa protegidas por un firewall. Se vería afectada de alguna manera la privacidad de los jondos?"
   ]
  },
  {
   "cell_type": "markdown",
   "metadata": {},
   "source": [
    "<p style=\"color:blue\">Respuesta:</p>"
   ]
  }
 ],
 "metadata": {
  "kernelspec": {
   "display_name": "Python 3 (ipykernel)",
   "language": "python",
   "name": "python3"
  },
  "language_info": {
   "codemirror_mode": {
    "name": "ipython",
    "version": 3
   },
   "file_extension": ".py",
   "mimetype": "text/x-python",
   "name": "python",
   "nbconvert_exporter": "python",
   "pygments_lexer": "ipython3",
   "version": "3.10.9"
  },
  "latex_envs": {
   "bibliofile": "biblio.bib",
   "cite_by": "apalike",
   "current_citInitial": 1,
   "eqLabelWithNumbers": true,
   "eqNumInitial": 0
  },
  "toc": {
   "toc_cell": true,
   "toc_number_sections": true,
   "toc_threshold": 6,
   "toc_window_display": false
  }
 },
 "nbformat": 4,
 "nbformat_minor": 4
}
